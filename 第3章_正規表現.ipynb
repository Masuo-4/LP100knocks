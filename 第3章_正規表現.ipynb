{
 "cells": [
  {
   "cell_type": "markdown",
   "metadata": {},
   "source": [
    "<h1> 第三章 正規表現"
   ]
  },
  {
   "cell_type": "code",
   "execution_count": 38,
   "metadata": {},
   "outputs": [],
   "source": [
    "# !wget https://nlp100.github.io/data/jawiki-country.json.gz"
   ]
  },
  {
   "cell_type": "markdown",
   "metadata": {},
   "source": [
    "<h3>20: Wikipedia記事のJSONファイルを読み込み，「イギリス」に関する記事本文を表示せよ．問題21-29では，ここで抽出した記事本文に対して実行せよ．"
   ]
  },
  {
   "cell_type": "code",
   "execution_count": 39,
   "metadata": {},
   "outputs": [
    {
     "name": "stdout",
     "output_type": "stream",
     "text": [
      "{{redirect|UK}}\n",
      "{{redirect|英国|春秋時代の諸侯国|英 (春秋)}}\n",
      "{{Otheruses|ヨーロッパの国|長崎県・熊本県の郷土料理|いぎりす}}\n",
      "{{基礎情報 国\n",
      "|略名  =イギリス\n",
      "|日本語国名 = グレートブリテン及び北アイルランド連合王国\n",
      "|公式国名 = {{lang|en|United Kingdom of Great Britain and Northern Ireland}}<ref>英語以外での正式国名:<br />\n",
      "*{{lang|gd|An Rìoghachd Aonaichte na Breatainn Mhòr agus Eirinn mu Thuath}}（[[スコットランド・ゲール語]]）\n",
      "*{{lang|cy|Teyrnas Gyfunol Prydain Fawr a Gogledd Iwerddon}}（[[ウェールズ語]]）\n",
      "*{{lang|ga|Ríocht Aontaithe na Breataine Móire agus Tuaisceart na hÉireann}}（[[アイルランド語]]）\n",
      "*{{lang|kw|An Rywvaneth Unys a Vreten Veur hag Iwerdhon Glédh}}（[[コーンウォール語]]）\n",
      "*{{lang|sco|Unitit Kinrick o Great Breetain an Northren Ireland}}（[[スコットランド語]]）\n",
      "**{{lang|sco|Claught Kängrick o Docht Brätain an Norlin Airlann}}、{{lang|sco|Unitet Kängdom o Great Brittain an Norlin Airlann}}（アルスター・スコットランド語）</ref>\n",
      "|国旗画像 = Flag of the United Kingdom.svg\n",
      "|国章画像 = [[ファイル:Royal Coat of Arms of the United Kingdom.svg|85px|イギリスの国章]]\n",
      "|国章リンク =（[[イギリスの国章|国章]]）\n",
      "|標語 = {{lang|fr|[[Dieu et mon droit]]}}<br />（[[フランス語]]:[[Dieu et mon droit|神と我が権利]]）\n",
      "|国歌 = [[女王陛下万歳|{{lang|en|God Save the Queen}}]]{{en icon}}<br />''神よ女王を護り賜え''<br />{{center|[[ファイル:United States Navy Band - God Save the Queen.ogg]]}}\n",
      "|地図画像 = Europe-UK.svg\n",
      "|位置画像 = United Kingdom (+overseas territories) in the World (+Antarctica claims).svg\n",
      "|公用語 = [[英語]]\n",
      "|首都 = [[ロンドン]]（事実上）\n",
      "|最大都市 = ロンドン\n",
      "|元首等肩書 = [[イギリスの君主|女王]]\n",
      "|元首等氏名 = [[エリザベス2世]]\n",
      "|首相等肩書 = [[イギリスの首相|首相]]\n",
      "|首相等氏名 = [[ボリス・ジョンソン]]\n",
      "|他元首等肩書1 = [[貴族院 (イギリス)|貴族院議長]]\n",
      "|他元首等氏名1 = [[:en:Norman Fowler, Baron Fowler|\n"
     ]
    }
   ],
   "source": [
    "import json\n",
    "\n",
    "def get_article_text(file_path, target_title):\n",
    "    with open(file_path, \"r\") as file:\n",
    "        for line in file:\n",
    "            # 辞書として扱えるようにする\n",
    "            data = json.loads(line)\n",
    "            if data[\"title\"] == target_title:\n",
    "                return data[\"text\"]\n",
    "\n",
    "file_path = \"jawiki-country.json\"\n",
    "target_title = \"イギリス\"\n",
    "\n",
    "article_text =  get_article_text(file_path, target_title)\n",
    "print(article_text[:1500])"
   ]
  },
  {
   "cell_type": "markdown",
   "metadata": {},
   "source": [
    "<h3>21: 記事中でカテゴリ名を宣言している行を抽出せよ．"
   ]
  },
  {
   "cell_type": "code",
   "execution_count": 40,
   "metadata": {},
   "outputs": [
    {
     "name": "stdout",
     "output_type": "stream",
     "text": [
      "[[Category:イギリス|*]]\n",
      "[[Category:イギリス連邦加盟国]]\n",
      "[[Category:英連邦王国|*]]\n",
      "[[Category:G8加盟国]]\n",
      "[[Category:欧州連合加盟国|元]]\n",
      "[[Category:海洋国家]]\n",
      "[[Category:現存する君主国]]\n",
      "[[Category:島国]]\n",
      "[[Category:1801年に成立した国家・領域]]\n"
     ]
    }
   ],
   "source": [
    "import re\n",
    "\n",
    "pattern = r\"\\[\\[Category:.*?\\]\\]\"\n",
    "result = \"\\n\".join(re.findall(pattern, article_text, re.MULTILINE))\n",
    "print(result)"
   ]
  },
  {
   "cell_type": "markdown",
   "metadata": {},
   "source": [
    "<h3>22: 記事のカテゴリ名を（行単位ではなく名前で）抽出せよ．"
   ]
  },
  {
   "cell_type": "code",
   "execution_count": 41,
   "metadata": {},
   "outputs": [
    {
     "name": "stdout",
     "output_type": "stream",
     "text": [
      "イギリス\n",
      "イギリス連邦加盟国\n",
      "英連邦王国\n",
      "G8加盟国\n",
      "欧州連合加盟国\n",
      "海洋国家\n",
      "現存する君主国\n",
      "島国\n",
      "1801年に成立した国家・領域\n"
     ]
    }
   ],
   "source": [
    "import re\n",
    "\n",
    "pattern = r\"\\[\\[Category:(.*?)(?:\\|.*)?\\]\\]\"\n",
    "result = \"\\n\".join(re.findall(pattern, article_text, re.MULTILINE))\n",
    "print(result)"
   ]
  },
  {
   "cell_type": "markdown",
   "metadata": {},
   "source": [
    "<h3>23: 記事中に含まれるセクション名とそのレベル（例えば”== セクション名 ==”なら1）を表示せよ．"
   ]
  },
  {
   "cell_type": "code",
   "execution_count": 42,
   "metadata": {},
   "outputs": [
    {
     "name": "stdout",
     "output_type": "stream",
     "text": [
      "国名:1\n",
      "歴史:1\n",
      "地理:1\n",
      "主要都市:2\n",
      "気候:2\n",
      "政治:1\n",
      "元首:2\n",
      "法:2\n",
      "内政:2\n",
      "地方行政区分:2\n",
      "外交・軍事:2\n",
      "経済:1\n",
      "鉱業:2\n",
      "農業:2\n",
      "貿易:2\n",
      "不動産:2\n",
      "エネルギー政策:2\n",
      "\n"
     ]
    }
   ],
   "source": [
    "import re\n",
    "\n",
    "pattern = r\"(\\={2,})\\s*(.+?)\\s*\\={2,}\"\n",
    "result = \"\\n\".join(i[1] + \":\" + str((len(i[0]) - 1))for i in re.findall(pattern, article_text, re.MULTILINE))\n",
    "print(result[:99])"
   ]
  },
  {
   "cell_type": "markdown",
   "metadata": {},
   "source": [
    "<h3>24: 記事から参照されているメディアファイルをすべて抜き出せ．"
   ]
  },
  {
   "cell_type": "code",
   "execution_count": 43,
   "metadata": {},
   "outputs": [
    {
     "name": "stdout",
     "output_type": "stream",
     "text": [
      "Royal Coat of Arms of the United Kingdom.svg\n",
      "Descriptio Prime Tabulae Europae.jpg\n",
      "Lenepveu, Jeanne d'Arc au siège d'Orléans.jpg\n",
      "London.bankofengland.arp.jpg\n",
      "Battle of Waterloo 1815.PNG\n",
      "Uk topo en.jpg\n",
      "BenNevis2005.jpg\n",
      "Population density UK 2011 census.png\n",
      "2019 Greenwich Peninsula & Canary Wharf.jpg\n",
      "Birmingham Skyline from Edgbaston Cricket Ground crop.jpg\n",
      "Leeds CBD at night.jpg\n",
      "Glasgow and the Clyde from the air (geograph 4665720).jpg\n",
      "Palace of Westminster, London - Feb 2007.jpg\n",
      "Scotland Parliament Holyrood.jpg\n",
      "Donald Trump and Theresa May (33998675310) (cropped).jpg\n",
      "Soldiers Trooping the Colour, 16th June 2007.jpg\n",
      "City of London skyline from London City Hall - Oct 2008.jpg\n",
      "Oil platform in the North SeaPros.jpg\n",
      "Eurostar at St Pancras Jan 2008.jpg\n",
      "Heathrow Terminal 5C Iwelumo-1.jpg\n",
      "Airbus A380-841 G-XLEB British Airways (10424102995).jpg\n",
      "UKpop.svg\n",
      "Anglospeak.svg\n",
      "Royal Aberdeen Children's Hospital.jpg\n",
      "CHANDOS3.jpg\n",
      "The Fabs.JPG\n",
      "Wembley Stadium, illuminated.jpg\n"
     ]
    }
   ],
   "source": [
    "import re\n",
    "\n",
    "pattern = r\"\\[\\[ファイル:(.+?)\\|\"\n",
    "result = \"\\n\".join(re.findall(pattern, article_text))\n",
    "print(result)"
   ]
  },
  {
   "cell_type": "markdown",
   "metadata": {},
   "source": [
    "<h3>25: 記事中に含まれる「基礎情報」テンプレートのフィールド名と値を抽出し，辞書オブジェクトとして格納せよ．"
   ]
  },
  {
   "cell_type": "code",
   "execution_count": 44,
   "metadata": {},
   "outputs": [
    {
     "name": "stdout",
     "output_type": "stream",
     "text": [
      "略名: イギリス\n",
      "日本語国名: グレートブリテン及び北アイルランド連合王国\n",
      "公式国名: {{lang|en|United Kingdom of Great Britain and Northern Ireland}}<ref>英語以外での正式国名:<br />\n",
      "*{{lang|gd|An Rìoghachd Aonaichte na Breatainn Mhòr agus Eirinn mu Thuath}}（[[スコットランド・ゲール語]]）\n",
      "*{{lang|cy|Teyrnas Gyfunol Prydain Fawr a Gogledd Iwerddon}}（[[ウェールズ語]]）\n",
      "*{{lang|ga|Ríocht Aontaithe na Breataine Móire agus Tuaisceart na hÉireann}}（[[アイルランド語]]）\n",
      "*{{lang|kw|An Rywvaneth Unys a Vreten Veur hag Iwerdhon Glédh}}（[[コーンウォール語]]）\n",
      "*{{lang|sco|Unitit Kinrick o Great Breetain an Northren Ireland}}（[[スコットランド語]]）\n",
      "**{{lang|sco|Claught Kängrick o Docht Brätain an Norlin Airlann}}、{{lang|sco|Unitet Kängdom o Great Brittain an Norlin Airlann}}（アルスター・スコットランド語）</ref>\n",
      "国旗画像: Flag of the United Kingdom.svg\n",
      "国章画像: [[ファイル:Royal Coat of Arms of the United Kingdom.svg|85px|イギリスの国章]]\n",
      "国章リンク: （[[イギリスの国章|国章]]）\n",
      "標語: {{lang|fr|[[Dieu et mon droit]]}}<br />（[[フランス語]]:[[Dieu et mon droit|神と我が権利]]）\n",
      "国歌: [[女王陛下万歳|{{lang|en|God Save the Queen}}]]{{en icon}}<br />''神よ女王を護り賜え''<br />{{center|[[ファイル:United States Navy Band - God Save the Queen.ogg]]}}\n",
      "地図画像: Europe-UK.svg\n",
      "位置画像: United Kingdom (+overseas territories) in the World (+Antarctica claims).svg\n",
      "公用語: [[英語]]\n",
      "首都: [[ロンドン]]（事実上）\n",
      "最大都市: ロンドン\n",
      "元首等肩書: [[イギリスの君主|女王]]\n",
      "元首等氏名: [[エリザベス2世]]\n",
      "首相等肩書: [[イギリスの首相|首相]]\n",
      "首相等氏名: [[ボリス・ジョンソン]]\n",
      "他元首等肩書1: [[貴族院 (イギリス)|貴族院議長]]\n",
      "他元首等氏名1: [[:en:Norman Fowler, Baron Fowler|ノーマン・ファウラー]]\n",
      "他元首等肩書2: [[庶民院 (イギリス)|庶民院議長]]\n",
      "他元首等氏名2: {{仮リンク|リンゼイ・ホイル|en|Lindsay Hoyle}}\n",
      "他元首等肩書3: [[連合王国最高裁判所|最高裁判所長官]]\n",
      "他元首等氏名3: [[:en:Brenda Hale, Baroness Hale of Richmond|ブレンダ・ヘイル]]\n",
      "面積順位: 76\n",
      "面積大きさ: 1 E11\n",
      "面積値: 244,820\n",
      "水面積率: 1.3%\n",
      "人口統計年: 2018\n",
      "人口順位: 22\n",
      "人口大きさ: 1 E7\n",
      "人口値: 6643万5600<ref>{{Cite web|url=https://www.ons.gov.uk/peoplepopulationandcommunity/populationandmigration/populationestimates|title=Population estimates - Office for National Statistics|accessdate=2019-06-26|date=2019-06-26}}</ref>\n",
      "人口密度値: 271\n",
      "GDP統計年元: 2012\n",
      "GDP値元: 1兆5478億<ref name=\"imf-statistics-gdp\">[http://www.imf.org/external/pubs/ft/weo/2012/02/weodata/weorept.aspx?pr.x=70&pr.y=13&sy=2010&ey=2012&scsm=1&ssd=1&sort=country&ds=.&br=1&c=112&s=NGDP%2CNGDPD%2CPPPGDP%2CPPPPC&grp=0&a=IMF>Data and Statistics>World Economic Outlook Databases>By Countrise>United Kingdom]</ref>\n",
      "GDP統計年MER: 2012\n",
      "GDP順位MER: 6\n",
      "GDP値MER: 2兆4337億<ref name=\"imf-statistics-gdp\" />\n",
      "GDP統計年: 2012\n",
      "GDP順位: 6\n",
      "GDP値: 2兆3162億<ref name=\"imf-statistics-gdp\" />\n",
      "GDP/人: 36,727<ref name=\"imf-statistics-gdp\" />\n",
      "建国形態: 建国\n",
      "確立形態1: [[イングランド王国]]／[[スコットランド王国]]<br />（両国とも[[合同法 (1707年)|1707年合同法]]まで）\n",
      "確立年月日1: 927年／843年\n",
      "確立形態2: [[グレートブリテン王国]]成立<br />（1707年合同法）\n",
      "確立年月日2: 1707年{{0}}5月{{0}}1日\n",
      "確立形態3: [[グレートブリテン及びアイルランド連合王国]]成立<br />（[[合同法 (1800年)|1800年合同法]]）\n",
      "確立年月日3: 1801年{{0}}1月{{0}}1日\n",
      "確立形態4: 現在の国号「'''グレートブリテン及び北アイルランド連合王国'''」に変更\n",
      "確立年月日4: 1927年{{0}}4月12日\n",
      "通貨: [[スターリング・ポンド|UKポンド]] (£)\n",
      "通貨コード: GBP\n",
      "時間帯: ±0\n",
      "夏時間: +1\n",
      "ISO 3166-1: GB / GBR\n",
      "ccTLD: [[.uk]] / [[.gb]]<ref>使用は.ukに比べ圧倒的少数。</ref>\n",
      "国際電話番号: 44\n",
      "注記: <references/>\n"
     ]
    }
   ],
   "source": [
    "import re\n",
    "\n",
    "pattern = r\"\\{\\{基礎情報(.+?^\\}\\})\"\n",
    "template = \"\\n\".join(re.findall(pattern, article_text, re.MULTILINE + re.DOTALL))\n",
    "\n",
    "pattern = r'\\|(.+?) *= *(.+?)\\n(?=\\||})'\n",
    "result = dict(re.findall(pattern, template, re.MULTILINE + re.DOTALL))\n",
    "for k, v in result.items():\n",
    "  print(k + ': ' + v)\n"
   ]
  },
  {
   "cell_type": "markdown",
   "metadata": {},
   "source": [
    "<h3>26: 25の処理時に，テンプレートの値からMediaWikiの強調マークアップ（弱い強調，強調，強い強調のすべて）を除去してテキストに変換せよ(参考: [マークアップ早見表](http://ja.wikipedia.org/wiki/Help:%E6%97%A9%E8%A6%8B%E8%A1%A8))\n",
    "\n"
   ]
  },
  {
   "cell_type": "code",
   "execution_count": 45,
   "metadata": {},
   "outputs": [
    {
     "name": "stdout",
     "output_type": "stream",
     "text": [
      "略名: イギリス\n",
      "日本語国名: グレートブリテン及び北アイルランド連合王国\n",
      "公式国名: {{lang|en|United Kingdom of Great Britain and Northern Ireland}}<ref>英語以外での正式国名:<br />\n",
      "*{{lang|gd|An Rìoghachd Aonaichte na Breatainn Mhòr agus Eirinn mu Thuath}}（[[スコットランド・ゲール語]]）\n",
      "*{{lang|cy|Teyrnas Gyfunol Prydain Fawr a Gogledd Iwerddon}}（[[ウェールズ語]]）\n",
      "*{{lang|ga|Ríocht Aontaithe na Breataine Móire agus Tuaisceart na hÉireann}}（[[アイルランド語]]）\n",
      "*{{lang|kw|An Rywvaneth Unys a Vreten Veur hag Iwerdhon Glédh}}（[[コーンウォール語]]）\n",
      "*{{lang|sco|Unitit Kinrick o Great Breetain an Northren Ireland}}（[[スコットランド語]]）\n",
      "**{{lang|sco|Claught Kängrick o Docht Brätain an Norlin Airlann}}、{{lang|sco|Unitet Kängdom o Great Brittain an Norlin Airlann}}（アルスター・スコットランド語）</ref>\n",
      "国旗画像: Flag of the United Kingdom.svg\n",
      "国章画像: [[ファイル:Royal Coat of Arms of the United Kingdom.svg|85px|イギリスの国章]]\n",
      "国章リンク: （[[イギリスの国章|国章]]）\n",
      "標語: {{lang|fr|[[Dieu et mon droit]]}}<br />（[[フランス語]]:[[Dieu et mon droit|神と我が権利]]）\n",
      "国歌: [[女王陛下万歳|{{lang|en|God Save the Queen}}]]{{en icon}}<br />神よ女王を護り賜え<br />{{center|[[ファイル:United States Navy Band - God Save the Queen.ogg]]}}\n",
      "地図画像: Europe-UK.svg\n",
      "位置画像: United Kingdom (+overseas territories) in the World (+Antarctica claims).svg\n",
      "公用語: [[英語]]\n",
      "首都: [[ロンドン]]（事実上）\n",
      "最大都市: ロンドン\n",
      "元首等肩書: [[イギリスの君主|女王]]\n",
      "元首等氏名: [[エリザベス2世]]\n",
      "首相等肩書: [[イギリスの首相|首相]]\n",
      "首相等氏名: [[ボリス・ジョンソン]]\n",
      "他元首等肩書1: [[貴族院 (イギリス)|貴族院議長]]\n",
      "他元首等氏名1: [[:en:Norman Fowler, Baron Fowler|ノーマン・ファウラー]]\n",
      "他元首等肩書2: [[庶民院 (イギリス)|庶民院議長]]\n",
      "他元首等氏名2: {{仮リンク|リンゼイ・ホイル|en|Lindsay Hoyle}}\n",
      "他元首等肩書3: [[連合王国最高裁判所|最高裁判所長官]]\n",
      "他元首等氏名3: [[:en:Brenda Hale, Baroness Hale of Richmond|ブレンダ・ヘイル]]\n",
      "面積順位: 76\n",
      "面積大きさ: 1 E11\n",
      "面積値: 244,820\n",
      "水面積率: 1.3%\n",
      "人口統計年: 2018\n",
      "人口順位: 22\n",
      "人口大きさ: 1 E7\n",
      "人口値: 6643万5600<ref>{{Cite web|url=https://www.ons.gov.uk/peoplepopulationandcommunity/populationandmigration/populationestimates|title=Population estimates - Office for National Statistics|accessdate=2019-06-26|date=2019-06-26}}</ref>\n",
      "人口密度値: 271\n",
      "GDP統計年元: 2012\n",
      "GDP値元: 1兆5478億<ref name=\"imf-statistics-gdp\">[http://www.imf.org/external/pubs/ft/weo/2012/02/weodata/weorept.aspx?pr.x=70&pr.y=13&sy=2010&ey=2012&scsm=1&ssd=1&sort=country&ds=.&br=1&c=112&s=NGDP%2CNGDPD%2CPPPGDP%2CPPPPC&grp=0&a=IMF>Data and Statistics>World Economic Outlook Databases>By Countrise>United Kingdom]</ref>\n",
      "GDP統計年MER: 2012\n",
      "GDP順位MER: 6\n",
      "GDP値MER: 2兆4337億<ref name=\"imf-statistics-gdp\" />\n",
      "GDP統計年: 2012\n",
      "GDP順位: 6\n",
      "GDP値: 2兆3162億<ref name=\"imf-statistics-gdp\" />\n",
      "GDP/人: 36,727<ref name=\"imf-statistics-gdp\" />\n",
      "建国形態: 建国\n",
      "確立形態1: [[イングランド王国]]／[[スコットランド王国]]<br />（両国とも[[合同法 (1707年)|1707年合同法]]まで）\n",
      "確立年月日1: 927年／843年\n",
      "確立形態2: [[グレートブリテン王国]]成立<br />（1707年合同法）\n",
      "確立年月日2: 1707年{{0}}5月{{0}}1日\n",
      "確立形態3: [[グレートブリテン及びアイルランド連合王国]]成立<br />（[[合同法 (1800年)|1800年合同法]]）\n",
      "確立年月日3: 1801年{{0}}1月{{0}}1日\n",
      "確立形態4: 現在の国号「グレートブリテン及び北アイルランド連合王国」に変更\n",
      "確立年月日4: 1927年{{0}}4月12日\n",
      "通貨: [[スターリング・ポンド|UKポンド]] (£)\n",
      "通貨コード: GBP\n",
      "時間帯: ±0\n",
      "夏時間: +1\n",
      "ISO 3166-1: GB / GBR\n",
      "ccTLD: [[.uk]] / [[.gb]]<ref>使用は.ukに比べ圧倒的少数。</ref>\n",
      "国際電話番号: 44\n",
      "注記: <references/>\n"
     ]
    }
   ],
   "source": [
    "def remove_markup(text):\n",
    "    # 強調マークアップの除去\n",
    "    pattern = r\"\\'{2,5}\"\n",
    "    result = re.sub(pattern, \"\", text)\n",
    "    return(result)\n",
    "\n",
    "result_rm = {k: remove_markup(v) for k, v in result.items()}\n",
    "for k, v in result_rm.items():\n",
    "    print(k + ': ' + v)"
   ]
  },
  {
   "cell_type": "markdown",
   "metadata": {},
   "source": [
    "<h3>27: 26の処理に加えて，テンプレートの値からMediaWikiの内部リンクマークアップを除去し，テキストに変換せよ."
   ]
  },
  {
   "cell_type": "code",
   "execution_count": 46,
   "metadata": {},
   "outputs": [
    {
     "name": "stdout",
     "output_type": "stream",
     "text": [
      "略名: イギリス\n",
      "日本語国名: グレートブリテン及び北アイルランド連合王国\n",
      "公式国名: {{lang|en|United Kingdom of Great Britain and Northern Ireland}}<ref>英語以外での正式国名:<br />\n",
      "*{{lang|gd|An Rìoghachd Aonaichte na Breatainn Mhòr agus Eirinn mu Thuath}}（スコットランド・ゲール語）\n",
      "*{{lang|cy|Teyrnas Gyfunol Prydain Fawr a Gogledd Iwerddon}}（ウェールズ語）\n",
      "*{{lang|ga|Ríocht Aontaithe na Breataine Móire agus Tuaisceart na hÉireann}}（アイルランド語）\n",
      "*{{lang|kw|An Rywvaneth Unys a Vreten Veur hag Iwerdhon Glédh}}（コーンウォール語）\n",
      "*{{lang|sco|Unitit Kinrick o Great Breetain an Northren Ireland}}（スコットランド語）\n",
      "**{{lang|sco|Claught Kängrick o Docht Brätain an Norlin Airlann}}、{{lang|sco|Unitet Kängdom o Great Brittain an Norlin Airlann}}（アルスター・スコットランド語）</ref>\n",
      "国旗画像: Flag of the United Kingdom.svg\n",
      "国章画像: [[ファイル:Royal Coat of Arms of the United Kingdom.svg|85px|イギリスの国章]]\n",
      "国章リンク: （国章）\n",
      "標語: {{lang|fr|神と我が権利）\n",
      "国歌: [[女王陛下万歳|{{lang|en|God Save the Queen}}]]{{en icon}}<br />神よ女王を護り賜え<br />{{center|ファイル:United States Navy Band - God Save the Queen.ogg}}\n",
      "地図画像: Europe-UK.svg\n",
      "位置画像: United Kingdom (+overseas territories) in the World (+Antarctica claims).svg\n",
      "公用語: 英語\n",
      "首都: ロンドン（事実上）\n",
      "最大都市: ロンドン\n",
      "元首等肩書: 女王\n",
      "元首等氏名: エリザベス2世\n",
      "首相等肩書: 首相\n",
      "首相等氏名: ボリス・ジョンソン\n",
      "他元首等肩書1: 貴族院議長\n",
      "他元首等氏名1: ノーマン・ファウラー\n",
      "他元首等肩書2: 庶民院議長\n",
      "他元首等氏名2: {{仮リンク|リンゼイ・ホイル|en|Lindsay Hoyle}}\n",
      "他元首等肩書3: 最高裁判所長官\n",
      "他元首等氏名3: ブレンダ・ヘイル\n",
      "面積順位: 76\n",
      "面積大きさ: 1 E11\n",
      "面積値: 244,820\n",
      "水面積率: 1.3%\n",
      "人口統計年: 2018\n",
      "人口順位: 22\n",
      "人口大きさ: 1 E7\n",
      "人口値: 6643万5600<ref>{{Cite web|url=https://www.ons.gov.uk/peoplepopulationandcommunity/populationandmigration/populationestimates|title=Population estimates - Office for National Statistics|accessdate=2019-06-26|date=2019-06-26}}</ref>\n",
      "人口密度値: 271\n",
      "GDP統計年元: 2012\n",
      "GDP値元: 1兆5478億<ref name=\"imf-statistics-gdp\">[http://www.imf.org/external/pubs/ft/weo/2012/02/weodata/weorept.aspx?pr.x=70&pr.y=13&sy=2010&ey=2012&scsm=1&ssd=1&sort=country&ds=.&br=1&c=112&s=NGDP%2CNGDPD%2CPPPGDP%2CPPPPC&grp=0&a=IMF>Data and Statistics>World Economic Outlook Databases>By Countrise>United Kingdom]</ref>\n",
      "GDP統計年MER: 2012\n",
      "GDP順位MER: 6\n",
      "GDP値MER: 2兆4337億<ref name=\"imf-statistics-gdp\" />\n",
      "GDP統計年: 2012\n",
      "GDP順位: 6\n",
      "GDP値: 2兆3162億<ref name=\"imf-statistics-gdp\" />\n",
      "GDP/人: 36,727<ref name=\"imf-statistics-gdp\" />\n",
      "建国形態: 建国\n",
      "確立形態1: 1707年合同法まで）\n",
      "確立年月日1: 927年／843年\n",
      "確立形態2: グレートブリテン王国成立<br />（1707年合同法）\n",
      "確立年月日2: 1707年{{0}}5月{{0}}1日\n",
      "確立形態3: 1800年合同法）\n",
      "確立年月日3: 1801年{{0}}1月{{0}}1日\n",
      "確立形態4: 現在の国号「グレートブリテン及び北アイルランド連合王国」に変更\n",
      "確立年月日4: 1927年{{0}}4月12日\n",
      "通貨: UKポンド (£)\n",
      "通貨コード: GBP\n",
      "時間帯: ±0\n",
      "夏時間: +1\n",
      "ISO 3166-1: GB / GBR\n",
      "ccTLD: .uk / .gb<ref>使用は.ukに比べ圧倒的少数。</ref>\n",
      "国際電話番号: 44\n",
      "注記: <references/>\n"
     ]
    }
   ],
   "source": [
    "def remove_markup(text):\n",
    "    # 強調マークアップの除去\n",
    "    pattern = r\"\\'{2,5}\"\n",
    "    text = re.sub(pattern, \"\", text)\n",
    "\n",
    "    # 内部リンクマークアップの除去\n",
    "    pattern = r'\\[\\[(?:[^|]*?\\|)?([^|]*?)\\]\\]'\n",
    "    text = re.sub(pattern, r\"\\1\", text)\n",
    "    return text\n",
    "\n",
    "\n",
    "result_rm = {k: remove_markup(v) for k, v in result.items()}\n",
    "for k, v in result_rm.items():\n",
    "    print(k + ': ' + v)"
   ]
  },
  {
   "cell_type": "markdown",
   "metadata": {},
   "source": [
    "<h3>28: 27の処理に加えて，テンプレートの値からMediaWikiマークアップを可能な限り除去し，国の基本情報を整形せよ．"
   ]
  },
  {
   "cell_type": "code",
   "execution_count": 47,
   "metadata": {},
   "outputs": [
    {
     "name": "stdout",
     "output_type": "stream",
     "text": [
      "略名: イギリス\n",
      "日本語国名: グレートブリテン及び北アイルランド連合王国\n",
      "公式国名: United Kingdom of Great Britain and Northern Ireland英語以外での正式国名:\n",
      "*An Rìoghachd Aonaichte na Breatainn Mhòr agus Eirinn mu Thuath（スコットランド・ゲール語）\n",
      "*Teyrnas Gyfunol Prydain Fawr a Gogledd Iwerddon（ウェールズ語）\n",
      "*Ríocht Aontaithe na Breataine Móire agus Tuaisceart na hÉireann（アイルランド語）\n",
      "*An Rywvaneth Unys a Vreten Veur hag Iwerdhon Glédh（コーンウォール語）\n",
      "*Unitit Kinrick o Great Breetain an Northren Ireland（スコットランド語）\n",
      "**Claught Kängrick o Docht Brätain an Norlin Airlann、Unitet Kängdom o Great Brittain an Norlin Airlann（アルスター・スコットランド語）\n",
      "国旗画像: Flag of the United Kingdom.svg\n",
      "国章画像: [[ファイル:Royal Coat of Arms of the United Kingdom.svg|85px|イギリスの国章]]\n",
      "国章リンク: （国章）\n",
      "標語: {{lang|fr|神と我が権利）\n",
      "国歌: [[女王陛下万歳|God Save the Queen]]{{en icon}}神よ女王を護り賜え{{center|ファイル:United States Navy Band - God Save the Queen.ogg}}\n",
      "地図画像: Europe-UK.svg\n",
      "位置画像: United Kingdom (+overseas territories) in the World (+Antarctica claims).svg\n",
      "公用語: 英語\n",
      "首都: ロンドン（事実上）\n",
      "最大都市: ロンドン\n",
      "元首等肩書: 女王\n",
      "元首等氏名: エリザベス2世\n",
      "首相等肩書: 首相\n",
      "首相等氏名: ボリス・ジョンソン\n",
      "他元首等肩書1: 貴族院議長\n",
      "他元首等氏名1: ノーマン・ファウラー\n",
      "他元首等肩書2: 庶民院議長\n",
      "他元首等氏名2: Lindsay Hoyle\n",
      "他元首等肩書3: 最高裁判所長官\n",
      "他元首等氏名3: ブレンダ・ヘイル\n",
      "面積順位: 76\n",
      "面積大きさ: 1 E11\n",
      "面積値: 244,820\n",
      "水面積率: 1.3%\n",
      "人口統計年: 2018\n",
      "人口順位: 22\n",
      "人口大きさ: 1 E7\n",
      "人口値: 6643万5600{{Cite web|url=|title=Population estimates - Office for National Statistics|accessdate=2019-06-26|date=2019-06-26}}\n",
      "人口密度値: 271\n",
      "GDP統計年元: 2012\n",
      "GDP値元: 1兆5478億[>Data and Statistics>World Economic Outlook Databases>By Countrise>United Kingdom]\n",
      "GDP統計年MER: 2012\n",
      "GDP順位MER: 6\n",
      "GDP値MER: 2兆4337億\n",
      "GDP統計年: 2012\n",
      "GDP順位: 6\n",
      "GDP値: 2兆3162億\n",
      "GDP/人: 36,727\n",
      "建国形態: 建国\n",
      "確立形態1: 1707年合同法まで）\n",
      "確立年月日1: 927年／843年\n",
      "確立形態2: グレートブリテン王国成立（1707年合同法）\n",
      "確立年月日2: 1707年{{0}}5月{{0}}1日\n",
      "確立形態3: 1800年合同法）\n",
      "確立年月日3: 1801年{{0}}1月{{0}}1日\n",
      "確立形態4: 現在の国号「グレートブリテン及び北アイルランド連合王国」に変更\n",
      "確立年月日4: 1927年{{0}}4月12日\n",
      "通貨: UKポンド (£)\n",
      "通貨コード: GBP\n",
      "時間帯: ±0\n",
      "夏時間: +1\n",
      "ISO 3166-1: GB / GBR\n",
      "ccTLD: .uk / .gb使用は.ukに比べ圧倒的少数。\n",
      "国際電話番号: 44\n",
      "注記: \n"
     ]
    }
   ],
   "source": [
    "def remove_markup(text):\n",
    "    # 強調マークアップの除去\n",
    "    pattern = r\"\\'{2,5}\"\n",
    "    text = re.sub(pattern, \"\", text)\n",
    "\n",
    "    # 内部リンクマークアップの除去\n",
    "    pattern = r'\\[\\[(?:[^|]*?\\|)?([^|]*?)\\]\\]'\n",
    "    text = re.sub(pattern, r\"\\1\", text)\n",
    "    \n",
    "    # 外部リンクのマークアップを除去\n",
    "    pattern = r'https?://[\\w!?/\\+\\-_~=;\\.,*&@#$%\\(\\)\\'\\[\\]]+'\n",
    "    text = re.sub(pattern, '', text)\n",
    "    \n",
    "    # htmlタグの除去\n",
    "    pattern = r'<.+?>' \n",
    "    text = re.sub(pattern, '', text)\n",
    "    \n",
    "    # テンプレートの除去\n",
    "    pattern = r'\\{\\{(?:lang|仮リンク)(?:[^|]*?\\|)*?([^|]*?)\\}\\}' \n",
    "    text = re.sub(pattern, r'\\1', text)\n",
    "    return text\n",
    "\n",
    "\n",
    "result_rm = {k: remove_markup(v) for k, v in result.items()}\n",
    "for k, v in result_rm.items():\n",
    "    print(k + ': ' + v)"
   ]
  },
  {
   "cell_type": "markdown",
   "metadata": {},
   "source": [
    "<h3>29 国旗画像のURLを取得するPermalink\n",
    "テンプレートの内容を利用し，国旗画像のURLを取得せよ．（ヒント: MediaWiki APIのimageinfoを呼び出して，ファイル参照をURLに変換すればよい）"
   ]
  },
  {
   "cell_type": "code",
   "execution_count": 48,
   "metadata": {},
   "outputs": [
    {
     "name": "stdout",
     "output_type": "stream",
     "text": [
      "https://upload.wikimedia.org/wikipedia/en/a/ae/Flag_of_the_United_Kingdom.svg\n"
     ]
    }
   ],
   "source": [
    "import requests\n",
    "\n",
    "S = requests.Session()\n",
    "\n",
    "URL = \"https://en.wikipedia.org/w/api.php\"\n",
    "path = result_rm[\"国旗画像\"].replace(\" \", \"_\")\n",
    "\n",
    "PARAMS = {\n",
    "    \"action\": \"query\",\n",
    "    \"format\": \"json\",\n",
    "    \"prop\": \"imageinfo\",\n",
    "    \"iiprop\": \"url\",\n",
    "    \"titles\": \"File:\" + path\n",
    "}\n",
    "\n",
    "R = S.get(url=URL, params=PARAMS)\n",
    "DATA = R.json()\n",
    "\n",
    "PAGES = DATA[\"query\"][\"pages\"]\n",
    "\n",
    "for k, v in PAGES.items():\n",
    "    print(v[\"imageinfo\"][0][\"url\"])"
   ]
  },
  {
   "cell_type": "code",
   "execution_count": null,
   "metadata": {},
   "outputs": [],
   "source": []
  }
 ],
 "metadata": {
  "kernelspec": {
   "display_name": "base",
   "language": "python",
   "name": "python3"
  },
  "language_info": {
   "codemirror_mode": {
    "name": "ipython",
    "version": 3
   },
   "file_extension": ".py",
   "mimetype": "text/x-python",
   "name": "python",
   "nbconvert_exporter": "python",
   "pygments_lexer": "ipython3",
   "version": "3.9.12"
  },
  "orig_nbformat": 4
 },
 "nbformat": 4,
 "nbformat_minor": 2
}
