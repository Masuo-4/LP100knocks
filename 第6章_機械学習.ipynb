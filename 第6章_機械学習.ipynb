{
 "cells": [
  {
   "cell_type": "markdown",
   "id": "56ec4f62-98e2-428b-b272-be96ec9e61c9",
   "metadata": {},
   "source": [
    "<h2>第六章 機械学習"
   ]
  },
  {
   "cell_type": "code",
   "execution_count": null,
   "id": "bb9e393f-4f74-4656-8338-9d9d4e275f3c",
   "metadata": {},
   "outputs": [],
   "source": []
  }
 ],
 "metadata": {
  "kernelspec": {
   "display_name": "Python 3",
   "language": "python",
   "name": "python3"
  },
  "language_info": {
   "codemirror_mode": {
    "name": "ipython",
    "version": 3
   },
   "file_extension": ".py",
   "mimetype": "text/x-python",
   "name": "python",
   "nbconvert_exporter": "python",
   "pygments_lexer": "ipython3",
   "version": "3.8.8"
  }
 },
 "nbformat": 4,
 "nbformat_minor": 5
}
