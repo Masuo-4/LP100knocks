{
 "cells": [
  {
   "cell_type": "markdown",
   "metadata": {},
   "source": [
    "<h1>第四章 形態素解析"
   ]
  },
  {
   "cell_type": "markdown",
   "metadata": {},
   "source": [
    "夏目漱石の小説『吾輩は猫である』の文章（neko.txt）をMeCabを使って形態素解析し，その結果をneko.txt.mecabというファイルに保存せよ．このファイルを用いて，以下の問に対応するプログラムを実装せよ．\n",
    "\n",
    "なお，問題37, 38, 39はmatplotlibもしくはGnuplotを用いるとよい．\n",
    "\n"
   ]
  },
  {
   "cell_type": "code",
   "execution_count": 16,
   "metadata": {},
   "outputs": [],
   "source": [
    "# !wget https://nlp100.github.io/data/neko.txt"
   ]
  },
  {
   "cell_type": "code",
   "execution_count": 17,
   "metadata": {},
   "outputs": [],
   "source": [
    "# !mecab -o ./data/neko.txt.mecab ./neko.txt"
   ]
  },
  {
   "cell_type": "markdown",
   "metadata": {},
   "source": [
    "<h3>30: 形態素解析結果の読み込み"
   ]
  },
  {
   "cell_type": "markdown",
   "metadata": {},
   "source": [
    "形態素解析結果（neko.txt.mecab）を読み込むプログラムを実装せよ．ただし，各形態素は表層形（surface），基本形（base），品詞（pos），品詞細分類1（pos1）をキーとするマッピング型に格納し，1文を形態素（マッピング型）のリストとして表現せよ．第4章の残りの問題では，ここで作ったプログラムを活用せよ．"
   ]
  },
  {
   "cell_type": "code",
   "execution_count": 31,
   "metadata": {},
   "outputs": [
    {
     "name": "stdout",
     "output_type": "stream",
     "text": [
      "{'surface': '\\u3000', 'base': '\\u3000', 'pos': '記号', 'pos1': '空白'}\n",
      "{'surface': '吾輩', 'base': '吾輩', 'pos': '名詞', 'pos1': '代名詞'}\n",
      "{'surface': 'は', 'base': 'は', 'pos': '助詞', 'pos1': '係助詞'}\n",
      "{'surface': '猫', 'base': '猫', 'pos': '名詞', 'pos1': '一般'}\n",
      "{'surface': 'で', 'base': 'だ', 'pos': '助動詞', 'pos1': '*'}\n",
      "{'surface': 'ある', 'base': 'ある', 'pos': '助動詞', 'pos1': '*'}\n",
      "{'surface': '。', 'base': '。', 'pos': '記号', 'pos1': '句点'}\n"
     ]
    }
   ],
   "source": [
    "with open(\"./data/neko.txt.mecab\", \"r\") as f:\n",
    "    text_dict = []\n",
    "    sentence_dict = []\n",
    "    for line in f.readlines():\n",
    "        if line == \"\\n\":\n",
    "            continue\n",
    "        elif line != \"EOS\\n\":\n",
    "            node = line.split(\"\\t\")\n",
    "            feature = node[1].split(\",\")\n",
    "            \n",
    "            if node[0] == \"\":\n",
    "                continue\n",
    "                \n",
    "            word_dict = {\n",
    "                \"surface\" : node[0],\n",
    "                \"base\" : feature[6],\n",
    "                \"pos\" : feature[0],\n",
    "                \"pos1\" : feature[1]\n",
    "                \n",
    "            }\n",
    "            sentence_dict.append(word_dict)\n",
    "        \n",
    "        elif len(sentence_dict) != 0:\n",
    "            text_dict.append(sentence_dict)\n",
    "            sentence_dict = []\n",
    "    \n",
    "            \n",
    "for morph in text_dict[1]:\n",
    "    print(morph)"
   ]
  },
  {
   "cell_type": "markdown",
   "metadata": {},
   "source": [
    "<h3>31: 動詞の表層形をすべて抽出せよ．"
   ]
  },
  {
   "cell_type": "code",
   "execution_count": 19,
   "metadata": {},
   "outputs": [
    {
     "name": "stdout",
     "output_type": "stream",
     "text": [
      "動詞の表層形の種類: 3893\n",
      "\n",
      "こすり\n",
      "申し上げ\n",
      "たべる\n",
      "馴らし\n",
      "息ん\n",
      "交わし\n",
      "泳い\n",
      "知っ\n",
      "濁っ\n",
      "撚っ\n"
     ]
    }
   ],
   "source": [
    "ans = set()\n",
    "for sentence in text_dict:\n",
    "    for morph in sentence:\n",
    "        if morph[\"pos\"] == \"動詞\":\n",
    "            ans.add(morph[\"surface\"])\n",
    "            \n",
    "print(f'動詞の表層形の種類: {len(ans)}\\n')\n",
    "for v in list(ans)[:10]:\n",
    "    print(v)"
   ]
  },
  {
   "cell_type": "markdown",
   "metadata": {},
   "source": [
    "<h3>32: 動詞の基本形をすべて抽出せよ．"
   ]
  },
  {
   "cell_type": "code",
   "execution_count": 20,
   "metadata": {},
   "outputs": [
    {
     "name": "stdout",
     "output_type": "stream",
     "text": [
      "動詞の基本形の種類: 2300\n",
      "\n",
      "なく\n",
      "こりる\n",
      "たべる\n",
      "片づける\n",
      "凹ます\n",
      "まかる\n",
      "涼む\n",
      "かなう\n",
      "応ずる\n",
      "突き立てる\n"
     ]
    }
   ],
   "source": [
    "ans = set()\n",
    "for sentence in text_dict:\n",
    "    for morph in sentence:\n",
    "        if morph[\"pos\"] == \"動詞\":\n",
    "            ans.add(morph[\"base\"])\n",
    "            \n",
    "print(f'動詞の基本形の種類: {len(ans)}\\n')\n",
    "for v in list(ans)[:10]:\n",
    "    print(v)"
   ]
  },
  {
   "cell_type": "markdown",
   "metadata": {},
   "source": [
    "<h3>33: 2つの名詞が「の」で連結されている名詞句を抽出せよ．"
   ]
  },
  {
   "cell_type": "code",
   "execution_count": 21,
   "metadata": {},
   "outputs": [
    {
     "name": "stdout",
     "output_type": "stream",
     "text": [
      "「名詞+の+名詞」の種類: 4924\n",
      "\n",
      "近辺のもの\n",
      "家の片割れ\n",
      "例の山羊\n",
      "元気の消沈\n",
      "本因坊の流儀\n",
      "教師の身\n",
      "祐筆の妹\n",
      "柳の虫\n",
      "常人の差別\n",
      "消極の積極\n"
     ]
    }
   ],
   "source": [
    "ans = set()\n",
    "for sentence in text_dict:\n",
    "    for i in range(1, len(sentence) - 1):\n",
    "        if sentence[i - 1][\"pos\"] == \"名詞\" and sentence[i][\"surface\"] == \"の\" and sentence[i + 1][\"pos\"] == \"名詞\":\n",
    "            ans.add(sentence[i - 1]['surface'] + sentence[i]['surface'] + sentence[i + 1]['surface'])\n",
    "# 確認\n",
    "print(f'「名詞+の+名詞」の種類: {len(ans)}\\n')\n",
    "for n in list(ans)[:10]:\n",
    "  print(n)"
   ]
  },
  {
   "cell_type": "markdown",
   "metadata": {},
   "source": [
    "<h3>34: 名詞の連接（連続して出現する名詞）を最長一致で抽出せよ．"
   ]
  },
  {
   "cell_type": "code",
   "execution_count": 22,
   "metadata": {},
   "outputs": [
    {
     "name": "stdout",
     "output_type": "stream",
     "text": [
      "連接名詞の種類: 4454\n",
      "\n",
      "まま老人\n",
      "通り四つ這\n",
      "あなた方\n",
      "曰く運動\n",
      "吾人\n",
      "一大仮定\n",
      "新婚学士\n",
      "十六七世紀\n",
      "それぎり当分\n",
      "奇言奇行\n"
     ]
    }
   ],
   "source": [
    "ans = set()\n",
    "for sentence in text_dict:\n",
    "    num = 0\n",
    "    nouns = \"\"\n",
    "    for morph in sentence:\n",
    "        if morph[\"pos\"] == \"名詞\":\n",
    "            nouns = \"\".join([nouns, morph[\"surface\"]])\n",
    "            num += 1\n",
    "        else:\n",
    "            if num >= 2:# 連結数が2以上なら出力\n",
    "                ans.add(nouns)\n",
    "            nouns = \"\"\n",
    "            num = 0\n",
    "\n",
    "# 確認\n",
    "print(f'連接名詞の種類: {len(ans)}\\n')\n",
    "for n in list(ans)[:10]:\n",
    "  print(n)   "
   ]
  },
  {
   "cell_type": "markdown",
   "metadata": {},
   "source": [
    "<h3>35: 文章中に出現する単語とその出現頻度を求め，出現頻度の高い順に並べよ．"
   ]
  },
  {
   "cell_type": "code",
   "execution_count": 38,
   "metadata": {},
   "outputs": [
    {
     "name": "stdout",
     "output_type": "stream",
     "text": [
      "('の', 9194)\n",
      "('て', 6848)\n",
      "('は', 6420)\n",
      "('に', 6243)\n",
      "('を', 6071)\n",
      "('だ', 5972)\n",
      "('と', 5508)\n",
      "('が', 5337)\n",
      "('た', 4267)\n",
      "('する', 3657)\n"
     ]
    }
   ],
   "source": [
    "from collections import defaultdict\n",
    "\n",
    "word_counts = defaultdict(int)\n",
    "\n",
    "for sentence in text_dict:\n",
    "    for morph in sentence:\n",
    "        if morph[\"pos\"] != \"記号\":\n",
    "            word_counts[morph[\"base\"]] += 1\n",
    "\n",
    "sorted_word_counts = sorted(word_counts.items(), key=lambda x: x[1], reverse=True)\n",
    "\n",
    "# 確認\n",
    "for word in sorted_word_counts[:10]:\n",
    "  print(word)"
   ]
  },
  {
   "cell_type": "markdown",
   "metadata": {},
   "source": [
    "<h3>36: 出現頻度が高い10語とその出現頻度をグラフ（例えば棒グラフなど）で表示せよ．"
   ]
  },
  {
   "cell_type": "code",
   "execution_count": 39,
   "metadata": {},
   "outputs": [
    {
     "data": {
      "image/png": "[encoded data removed]",
      "text/plain": [
       "<Figure size 432x288 with 1 Axes>"
      ]
     },
     "metadata": {
      "needs_background": "light"
     },
     "output_type": "display_data"
    }
   ],
   "source": [
    "import matplotlib.pyplot as plt\n",
    "import japanize_matplotlib\n",
    "\n",
    "words = [word[0] for word in sorted_word_counts[:10]]\n",
    "counts = [word[1] for word in sorted_word_counts[:10]]\n",
    "\n",
    "plt.bar(words, counts)\n",
    "plt.xlabel('単語')\n",
    "plt.ylabel('出現頻度')\n",
    "plt.title('出現頻度が高い10語')\n",
    "plt.tight_layout()  # ラベルが重ならないように自動調整\n",
    "plt.show()"
   ]
  },
  {
   "cell_type": "markdown",
   "metadata": {},
   "source": [
    "<h3>37: 「猫」とよく共起する（共起頻度が高い）10語とその出現頻度をグラフ（例えば棒グラフなど）で表示せよ．"
   ]
  },
  {
   "cell_type": "code",
   "execution_count": 40,
   "metadata": {},
   "outputs": [
    {
     "data": {
      "image/png": "[encoded data removed]",
      "text/plain": [
       "<Figure size 432x288 with 1 Axes>"
      ]
     },
     "metadata": {
      "needs_background": "light"
     },
     "output_type": "display_data"
    }
   ],
   "source": [
    "import matplotlib.pyplot as plt\n",
    "import japanize_matplotlib\n",
    "from collections import defaultdict\n",
    "\n",
    "word_counts = defaultdict(int)\n",
    "for sentence in text_dict:\n",
    "    if \"猫\" in [morph[\"surface\"] for morph in sentence]:\n",
    "        for morph in sentence:\n",
    "            if morph[\"pos\"] != \"記号\":\n",
    "                word_counts[morph[\"base\"]] += 1\n",
    "\n",
    "del word_counts[\"猫\"]\n",
    "sorted_word_counts = sorted(word_counts.items(), key=lambda x: x[1], reverse=True)\n",
    "\n",
    "words = [word[0] for word in sorted_word_counts[:10]]\n",
    "counts = [word[1] for word in sorted_word_counts[:10]]\n",
    "\n",
    "plt.bar(words, counts)\n",
    "plt.xlabel('単語')\n",
    "plt.ylabel('出現頻度')\n",
    "plt.title('出現頻度が高い10語')\n",
    "plt.tight_layout()  # ラベルが重ならないように自動調整\n",
    "plt.show()"
   ]
  },
  {
   "cell_type": "markdown",
   "metadata": {},
   "source": [
    "<h3>38: 単語の出現頻度のヒストグラムを描け．ただし，横軸は出現頻度を表し，1から単語の出現頻度の最大値までの線形目盛とする．縦軸はx軸で示される出現頻度となった単語の異なり数（種類数）である．"
   ]
  },
  {
   "cell_type": "code",
   "execution_count": 74,
   "metadata": {},
   "outputs": [
    {
     "data": {
      "image/png": "[encoded data removed]",
      "text/plain": [
       "<Figure size 432x288 with 1 Axes>"
      ]
     },
     "metadata": {
      "needs_background": "light"
     },
     "output_type": "display_data"
    }
   ],
   "source": [
    "import matplotlib.pyplot as plt\n",
    "import japanize_matplotlib\n",
    "from collections import defaultdict\n",
    "\n",
    "word_counts = defaultdict(int)\n",
    "\n",
    "for sentence in text_dict:\n",
    "    for morph in sentence:\n",
    "        if morph[\"pos\"] != \"記号\":\n",
    "            word_counts[morph[\"base\"]] += 1\n",
    "\n",
    "counts = word_counts.values()\n",
    "# 最大値だとグラフが見づらいため、1~30に指定。\n",
    "n = 30\n",
    "plt.hist(counts, range=(1,n), bins=n)\n",
    "plt.xlabel('出現頻度')\n",
    "plt.ylabel('単語の異なり数（種類数）')\n",
    "plt.title('単語の出現頻度のヒストグラム')\n",
    "plt.show()"
   ]
  },
  {
   "cell_type": "markdown",
   "metadata": {},
   "source": [
    "<h3>39: 単語の出現頻度順位を横軸，その出現頻度を縦軸として，両対数グラフをプロットせよ．"
   ]
  },
  {
   "cell_type": "code",
   "execution_count": 95,
   "metadata": {},
   "outputs": [
    {
     "data": {
      "image/png": "[encoded data removed]",
      "text/plain": [
       "<Figure size 576x288 with 1 Axes>"
      ]
     },
     "metadata": {
      "needs_background": "light"
     },
     "output_type": "display_data"
    }
   ],
   "source": [
    "import matplotlib.pyplot as plt\n",
    "import japanize_matplotlib\n",
    "from collections import defaultdict\n",
    "\n",
    "word_counts = defaultdict(int)\n",
    "\n",
    "for sentence in text_dict:\n",
    "    for morph in sentence:\n",
    "        if morph[\"pos\"] != \"記号\":\n",
    "            word_counts[morph[\"base\"]] += 1\n",
    "\n",
    "counts = sorted(list(word_counts.values()), reverse=True)\n",
    "rank = list(range(1,len(counts) + 1))\n",
    "\n",
    "plt.figure(figsize=(8, 4))\n",
    "plt.scatter(rank, counts)\n",
    "plt.xscale('log')\n",
    "plt.yscale('log')\n",
    "plt.xlabel('出現頻度順位 (log scale)')\n",
    "plt.ylabel('出現頻度 (log scale)')\n",
    "plt.title('単語の出現頻度順位 vs 出現頻度 (両対数グラフ)')\n",
    "plt.show()"
   ]
  },
  {
   "cell_type": "code",
   "execution_count": null,
   "metadata": {},
   "outputs": [],
   "source": []
  }
 ],
 "metadata": {
  "kernelspec": {
   "display_name": "Python 3",
   "language": "python",
   "name": "python3"
  },
  "language_info": {
   "codemirror_mode": {
    "name": "ipython",
    "version": 3
   },
   "file_extension": ".py",
   "mimetype": "text/x-python",
   "name": "python",
   "nbconvert_exporter": "python",
   "pygments_lexer": "ipython3",
   "version": "3.8.8"
  },
  "toc-autonumbering": false
 },
 "nbformat": 4,
 "nbformat_minor": 4
}
