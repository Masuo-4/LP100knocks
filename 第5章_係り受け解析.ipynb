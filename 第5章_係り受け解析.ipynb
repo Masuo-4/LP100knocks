{
 "cells": [
  {
   "cell_type": "markdown",
   "metadata": {},
   "source": [
    "<h1>第五章 係り受け解析"
   ]
  },
  {
   "cell_type": "markdown",
   "metadata": {},
   "source": [
    "日本語Wikipediaの「人工知能」に関する記事からテキスト部分を抜き出したファイルがai.ja.zipに収録されている． この文章をCaboChaやKNP等のツールを利用して係り受け解析を行い，その結果をai.ja.txt.parsedというファイルに保存せよ．このファイルを読み込み，以下の問に対応するプログラムを実装せよ．"
   ]
  },
  {
   "cell_type": "code",
   "execution_count": 2,
   "metadata": {},
   "outputs": [],
   "source": [
    "# !wget https://nlp100.github.io/data/ai.ja.zip\n",
    "# !unzip ai.ja.zip\n",
    "# !cabocha -f1 -o ai.ja.txt.parsed ai.ja.txt "
   ]
  },
  {
   "cell_type": "code",
   "execution_count": 4,
   "metadata": {},
   "outputs": [
    {
     "name": "stdout",
     "output_type": "stream",
     "text": [
      "11744 ./output/ai.ja.txt.parsed\n",
      "* 0 -1D 1/1 0.000000\n",
      "人工\t名詞,一般,*,*,*,*,人工,ジンコウ,ジンコー\n",
      "知能\t名詞,一般,*,*,*,*,知能,チノウ,チノー\n",
      "EOS\n",
      "EOS\n",
      "* 0 17D 1/1 0.388993\n",
      "人工\t名詞,一般,*,*,*,*,人工,ジンコウ,ジンコー\n",
      "知能\t名詞,一般,*,*,*,*,知能,チノウ,チノー\n",
      "* 1 17D 2/3 0.613549\n",
      "（\t記号,括弧開,*,*,*,*,（,（,（\n",
      "じん\t名詞,一般,*,*,*,*,じん,ジン,ジン\n",
      "こうち\t名詞,一般,*,*,*,*,こうち,コウチ,コーチ\n",
      "のう\t助詞,終助詞,*,*,*,*,のう,ノウ,ノー\n",
      "、\t記号,読点,*,*,*,*,、,、,、\n",
      "、\t記号,読点,*,*,*,*,、,、,、\n"
     ]
    }
   ],
   "source": [
    "# 行数の確認\n",
    "!wc -l ./output/ai.ja.txt.parsed\n",
    "# 先頭15行の確認\n",
    "!head -15 ./output/ai.ja.txt.parsed"
   ]
  },
  {
   "cell_type": "markdown",
   "metadata": {},
   "source": [
    "<h3>40: 形態素を表すクラスMorphを実装せよ．このクラスは表層形（surface），基本形（base），品詞（pos），品詞細分類1（pos1）をメンバ変数に持つこととする．さらに，係り受け解析の結果（ai.ja.txt.parsed）を読み込み，各文をMorphオブジェクトのリストとして表現し，冒頭の説明文の形態素列を表示せよ．"
   ]
  },
  {
   "cell_type": "code",
   "execution_count": null,
   "metadata": {},
   "outputs": [],
   "source": []
  }
 ],
 "metadata": {
  "kernelspec": {
   "display_name": "Python 3",
   "language": "python",
   "name": "python3"
  },
  "language_info": {
   "codemirror_mode": {
    "name": "ipython",
    "version": 3
   },
   "file_extension": ".py",
   "mimetype": "text/x-python",
   "name": "python",
   "nbconvert_exporter": "python",
   "pygments_lexer": "ipython3",
   "version": "3.9.12"
  }
 },
 "nbformat": 4,
 "nbformat_minor": 4
}
