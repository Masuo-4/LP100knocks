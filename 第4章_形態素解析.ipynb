{
 "cells": [
  {
   "cell_type": "markdown",
   "metadata": {},
   "source": [
    "<h1>第四章 形態素解析"
   ]
  },
  {
   "cell_type": "markdown",
   "metadata": {},
   "source": [
    "夏目漱石の小説『吾輩は猫である』の文章（neko.txt）をMeCabを使って形態素解析し，その結果をneko.txt.mecabというファイルに保存せよ．このファイルを用いて，以下の問に対応するプログラムを実装せよ．\n",
    "\n",
    "なお，問題37, 38, 39はmatplotlibもしくはGnuplotを用いるとよい．\n",
    "\n"
   ]
  },
  {
   "cell_type": "code",
   "execution_count": 6,
   "metadata": {},
   "outputs": [],
   "source": [
    "# !wget https://nlp100.github.io/data/neko.txt"
   ]
  },
  {
   "cell_type": "code",
   "execution_count": 7,
   "metadata": {},
   "outputs": [],
   "source": [
    "# !mecab -o ./output/neko.txt.mecab ./neko.txt"
   ]
  },
  {
   "cell_type": "markdown",
   "metadata": {},
   "source": [
    "<h3>30: 形態素解析結果の読み込み"
   ]
  },
  {
   "cell_type": "markdown",
   "metadata": {},
   "source": [
    "形態素解析結果（neko.txt.mecab）を読み込むプログラムを実装せよ．ただし，各形態素は表層形（surface），基本形（base），品詞（pos），品詞細分類1（pos1）をキーとするマッピング型に格納し，1文を形態素（マッピング型）のリストとして表現せよ．第4章の残りの問題では，ここで作ったプログラムを活用せよ．"
   ]
  },
  {
   "cell_type": "code",
   "execution_count": 21,
   "metadata": {},
   "outputs": [
    {
     "name": "stdout",
     "output_type": "stream",
     "text": [
      "{'surface': '\\u3000', 'base': '\\u3000', 'pos': '記号', 'pos1': '空白'}\n",
      "{'surface': '吾輩', 'base': '吾輩', 'pos': '名詞', 'pos1': '代名詞'}\n",
      "{'surface': 'は', 'base': 'は', 'pos': '助詞', 'pos1': '係助詞'}\n",
      "{'surface': '猫', 'base': '猫', 'pos': '名詞', 'pos1': '一般'}\n",
      "{'surface': 'で', 'base': 'だ', 'pos': '助動詞', 'pos1': '*'}\n",
      "{'surface': 'ある', 'base': 'ある', 'pos': '助動詞', 'pos1': '*'}\n",
      "{'surface': '。', 'base': '。', 'pos': '記号', 'pos1': '句点'}\n"
     ]
    }
   ],
   "source": [
    "with open(\"./output/neko.txt.mecab\", \"r\") as f:\n",
    "    text_dict = []\n",
    "    sentence_dict = []\n",
    "    for line in f.readlines():\n",
    "        if line == \"\\n\":\n",
    "            continue\n",
    "        elif line != \"EOS\\n\":\n",
    "            node = line.split(\"\\t\")\n",
    "            feature = node[1].split(\",\")\n",
    "            \n",
    "            if node[0] == \"\":\n",
    "                continue\n",
    "                \n",
    "            word_dict = {\n",
    "                \"surface\" : node[0],\n",
    "                \"base\" : feature[6],\n",
    "                \"pos\" : feature[0],\n",
    "                \"pos1\" : feature[1]\n",
    "                \n",
    "            }\n",
    "            sentence_dict.append(word_dict)\n",
    "        \n",
    "        elif len(sentence_dict) != 0:\n",
    "            text_dict.append(sentence_dict)\n",
    "            sentence_dict = []\n",
    "    \n",
    "            \n",
    "for morph in text_dict[1]:\n",
    "    print(morph)"
   ]
  },
  {
   "cell_type": "markdown",
   "metadata": {},
   "source": [
    "<h3>31: 動詞の表層形をすべて抽出せよ．"
   ]
  },
  {
   "cell_type": "code",
   "execution_count": 24,
   "metadata": {},
   "outputs": [
    {
     "name": "stdout",
     "output_type": "stream",
     "text": [
      "動詞の表層形の種類: 3893\n",
      "\n",
      "蹶\n",
      "緩め\n",
      "降ら\n",
      "曲がり\n",
      "心得\n",
      "くらん\n",
      "佇ん\n",
      "通り抜け\n",
      "敷い\n",
      "履い\n"
     ]
    }
   ],
   "source": [
    "ans = set()\n",
    "for sentence in text_dict:\n",
    "    for morph in sentence:\n",
    "        if morph[\"pos\"] == \"動詞\":\n",
    "            ans.add(morph[\"surface\"])\n",
    "            \n",
    "print(f'動詞の表層形の種類: {len(ans)}\\n')\n",
    "for v in list(ans)[:10]:\n",
    "    print(v)"
   ]
  },
  {
   "cell_type": "markdown",
   "metadata": {},
   "source": [
    "<h3>32: 動詞の基本形をすべて抽出せよ．"
   ]
  },
  {
   "cell_type": "code",
   "execution_count": 26,
   "metadata": {},
   "outputs": [
    {
     "name": "stdout",
     "output_type": "stream",
     "text": [
      "動詞の基本形の種類: 2300\n",
      "\n",
      "あつめる\n",
      "守る\n",
      "押し出す\n",
      "指す\n",
      "息む\n",
      "飛込む\n",
      "間違える\n",
      "吹き付ける\n",
      "立ち行く\n",
      "いいかねる\n"
     ]
    }
   ],
   "source": [
    "ans = set()\n",
    "for sentence in text_dict:\n",
    "    for morph in sentence:\n",
    "        if morph[\"pos\"] == \"動詞\":\n",
    "            ans.add(morph[\"base\"])\n",
    "            \n",
    "print(f'動詞の基本形の種類: {len(ans)}\\n')\n",
    "for v in list(ans)[:10]:\n",
    "    print(v)"
   ]
  },
  {
   "cell_type": "code",
   "execution_count": null,
   "metadata": {},
   "outputs": [],
   "source": []
  }
 ],
 "metadata": {
  "kernelspec": {
   "display_name": "Python 3",
   "language": "python",
   "name": "python3"
  },
  "language_info": {
   "codemirror_mode": {
    "name": "ipython",
    "version": 3
   },
   "file_extension": ".py",
   "mimetype": "text/x-python",
   "name": "python",
   "nbconvert_exporter": "python",
   "pygments_lexer": "ipython3",
   "version": "3.8.8"
  },
  "toc-autonumbering": false
 },
 "nbformat": 4,
 "nbformat_minor": 4
}
