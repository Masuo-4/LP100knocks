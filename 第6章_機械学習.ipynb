{
 "cells": [
  {
   "cell_type": "markdown",
   "id": "56ec4f62-98e2-428b-b272-be96ec9e61c9",
   "metadata": {},
   "source": [
    "<h2>第六章 機械学習"
   ]
  },
  {
   "cell_type": "markdown",
   "id": "cf42cfb1",
   "metadata": {},
   "source": [
    "本章では，Fabio Gasparetti氏が公開しているNews Aggregator Data Setを用い，ニュース記事の見出しを「ビジネス」「科学技術」「エンターテイメント」「健康」のカテゴリに分類するタスク（カテゴリ分類）に取り組む．"
   ]
  },
  {
   "cell_type": "code",
   "execution_count": 16,
   "id": "bb9e393f-4f74-4656-8338-9d9d4e275f3c",
   "metadata": {},
   "outputs": [],
   "source": [
    "# !wget https://archive.ics.uci.edu/ml/machine-learning-databases/00359/NewsAggregatorDataset.zip\n",
    "# !unzip NewsAggregatorDataset.zip"
   ]
  },
  {
   "cell_type": "code",
   "execution_count": 17,
   "id": "c648fce5",
   "metadata": {},
   "outputs": [],
   "source": [
    "# # 行数の確認\n",
    "# !wc -l ./data/NewsAggregatorDataset/newsCorpora_re.csv\n",
    "# # 先頭10行の確認\n",
    "# !head -10 ./data/NewsAggregatorDataset/newsCorpora_re.csv"
   ]
  },
  {
   "cell_type": "markdown",
   "id": "71a2e86b",
   "metadata": {},
   "source": [
    "<h3>50: News Aggregator Data Setをダウンロードし、以下の要領で学習データ（train.txt），検証データ（valid.txt），評価データ（test.txt）を作成せよ．\n",
    "\n",
    "1. ダウンロードしたzipファイルを解凍し，readme.txtの説明を読む．\n",
    "2. 情報源（publisher）が”Reuters”, “Huffington Post”, “Businessweek”, “Contactmusic.com”, “Daily Mail”の事例（記事）のみを抽出する．\n",
    "3. 抽出された事例をランダムに並び替える．\n",
    "4. 抽出された事例の80%を学習データ，残りの10%ずつを検証データと評価データに分割し，それぞれtrain.txt，valid.txt，test.txtというファイル名で保存する．ファイルには，１行に１事例を書き出すこととし，カテゴリ名と記事見出しのタブ区切り形式とせよ（このファイルは後に問題70で再利用する）．\n",
    "\n",
    "学習データと評価データを作成したら，各カテゴリの事例数を確認せよ．"
   ]
  },
  {
   "cell_type": "markdown",
   "id": "4c1f7bfa",
   "metadata": {},
   "source": [
    "GitHubには100MBしかアップロードできないので、少しnewsCorpora.csvを削りました。"
   ]
  },
  {
   "cell_type": "code",
   "execution_count": 18,
   "id": "805e6621",
   "metadata": {},
   "outputs": [],
   "source": [
    "# 読込時のエラー回避のためダブルクォーテーションをシングルクォーテーションに置換\n",
    "# !sed -e 's/\"/'\\''/g' ./data/NewsAggregatorDataset/newsCorpora.csv > ./data/NewsAggregatorDataset/newsCorpora_re.csv"
   ]
  },
  {
   "cell_type": "code",
   "execution_count": 19,
   "id": "ee79fe21",
   "metadata": {},
   "outputs": [
    {
     "name": "stdout",
     "output_type": "stream",
     "text": [
      "【学習データ】\n",
      "b    4374\n",
      "e    4102\n",
      "t    1180\n",
      "m     713\n",
      "Name: CATEGORY, dtype: int64\n",
      "【検証データ】\n",
      "b    547\n",
      "e    513\n",
      "t    147\n",
      "m     89\n",
      "Name: CATEGORY, dtype: int64\n",
      "【評価データ】\n",
      "b    547\n",
      "e    513\n",
      "t    148\n",
      "m     89\n",
      "Name: CATEGORY, dtype: int64\n"
     ]
    }
   ],
   "source": [
    "import pandas as pd\n",
    "from sklearn.model_selection import train_test_split\n",
    "# データの読み込み\n",
    "df = pd.read_csv('data/NewsAggregatorDataset/newsCorpora_re.csv', header=None, sep='\\t')\n",
    "df.columns = ['ID', 'TITLE', 'URL', 'PUBLISHER', 'CATEGORY', 'STORY', 'HOSTNAME', 'TIMESTAMP']\n",
    "\n",
    "# データの抽出\n",
    "publisher_lst = [\"Reuters\", \"Huffington Post\", \"Businessweek\", \"Contactmusic.com\", \"Daily Mail\"]\n",
    "df = df.query(\"PUBLISHER in @publisher_lst\").filter([\"TITLE\", \"CATEGORY\"])\n",
    "\n",
    "# データの分割\n",
    "train, valid_test = train_test_split(df, test_size=0.2, shuffle=True, random_state=123, stratify=df['CATEGORY'])\n",
    "valid, test = train_test_split(valid_test, test_size=0.5, shuffle=True, random_state=123, stratify=valid_test['CATEGORY'])\n",
    "\n",
    "# データの保存\n",
    "train.to_csv('./data/NewsAggregatorDataset/train.txt', sep='\\t', index=False)\n",
    "valid.to_csv('./data/NewsAggregatorDataset/valid.txt', sep='\\t', index=False)\n",
    "test.to_csv('./data/NewsAggregatorDataset/test.txt', sep='\\t', index=False)\n",
    "\n",
    "# 事例数の確認\n",
    "print('【学習データ】')\n",
    "print(train['CATEGORY'].value_counts())\n",
    "print('【検証データ】')\n",
    "print(valid['CATEGORY'].value_counts())\n",
    "print('【評価データ】')\n",
    "print(test['CATEGORY'].value_counts())\n"
   ]
  },
  {
   "cell_type": "markdown",
   "id": "b0615981",
   "metadata": {},
   "source": [
    "<h3>51: 学習データ，検証データ，評価データから特徴量を抽出し，それぞれtrain.feature.txt，valid.feature.txt，test.feature.txtというファイル名で保存せよ． なお，カテゴリ分類に有用そうな特徴量は各自で自由に設計せよ．記事の見出しを単語列に変換したものが最低限のベースラインとなるであろう．"
   ]
  },
  {
   "cell_type": "markdown",
   "id": "c15219f7",
   "metadata": {},
   "source": [
    "前処理"
   ]
  },
  {
   "cell_type": "code",
   "execution_count": 20,
   "id": "3ceb06c7",
   "metadata": {},
   "outputs": [
    {
     "data": {
      "text/html": [
       "<div>\n",
       "<style scoped>\n",
       "    .dataframe tbody tr th:only-of-type {\n",
       "        vertical-align: middle;\n",
       "    }\n",
       "\n",
       "    .dataframe tbody tr th {\n",
       "        vertical-align: top;\n",
       "    }\n",
       "\n",
       "    .dataframe thead th {\n",
       "        text-align: right;\n",
       "    }\n",
       "</style>\n",
       "<table border=\"1\" class=\"dataframe\">\n",
       "  <thead>\n",
       "    <tr style=\"text-align: right;\">\n",
       "      <th></th>\n",
       "      <th>TITLE</th>\n",
       "      <th>CATEGORY</th>\n",
       "    </tr>\n",
       "  </thead>\n",
       "  <tbody>\n",
       "    <tr>\n",
       "      <th>0</th>\n",
       "      <td>update 0 softbank ceo  sees new movement  hope...</td>\n",
       "      <td>t</td>\n",
       "    </tr>\n",
       "    <tr>\n",
       "      <th>1</th>\n",
       "      <td>yahoo owns a 0percent stake in alibaba and cas...</td>\n",
       "      <td>t</td>\n",
       "    </tr>\n",
       "    <tr>\n",
       "      <th>2</th>\n",
       "      <td>wayne knight is alive   seinfeld  actor tweets...</td>\n",
       "      <td>e</td>\n",
       "    </tr>\n",
       "    <tr>\n",
       "      <th>3</th>\n",
       "      <td>mark ruffalo implies ben affleck ruined friend...</td>\n",
       "      <td>e</td>\n",
       "    </tr>\n",
       "    <tr>\n",
       "      <th>4</th>\n",
       "      <td>lindsay lohan admits she s single as she guest...</td>\n",
       "      <td>e</td>\n",
       "    </tr>\n",
       "  </tbody>\n",
       "</table>\n",
       "</div>"
      ],
      "text/plain": [
       "                                               TITLE CATEGORY\n",
       "0  update 0 softbank ceo  sees new movement  hope...        t\n",
       "1  yahoo owns a 0percent stake in alibaba and cas...        t\n",
       "2  wayne knight is alive   seinfeld  actor tweets...        e\n",
       "3  mark ruffalo implies ben affleck ruined friend...        e\n",
       "4  lindsay lohan admits she s single as she guest...        e"
      ]
     },
     "execution_count": 20,
     "metadata": {},
     "output_type": "execute_result"
    }
   ],
   "source": [
    "import string\n",
    "import re\n",
    "import pandas as pd\n",
    "from sklearn.model_selection import train_test_split\n",
    "# 最初と同じ処理\n",
    "df = pd.read_csv('data/NewsAggregatorDataset/newsCorpora_re.csv', header=None, sep='\\t')\n",
    "df.columns = ['ID', 'TITLE', 'URL', 'PUBLISHER', 'CATEGORY', 'STORY', 'HOSTNAME', 'TIMESTAMP']\n",
    "publisher_lst = [\"Reuters\", \"Huffington Post\", \"Businessweek\", \"Contactmusic.com\", \"Daily Mail\"]\n",
    "df = df.query(\"PUBLISHER in @publisher_lst\").filter([\"TITLE\", \"CATEGORY\"])\n",
    "train, valid_test = train_test_split(df, test_size=0.2, shuffle=True, random_state=123, stratify=df['CATEGORY'])\n",
    "valid, test = train_test_split(valid_test, test_size=0.5, shuffle=True, random_state=123, stratify=valid_test['CATEGORY'])\n",
    "\n",
    "def preprocessing(text):\n",
    "  table = str.maketrans(string.punctuation, ' '*len(string.punctuation))\n",
    "  text = text.translate(table)  # 記号をスペースに置換\n",
    "  text = text.lower()  # 小文字化\n",
    "  text = re.sub('[0-9]+', '0', text)  # 数字列を0に置換\n",
    "\n",
    "  return text\n",
    "\n",
    "# データの再結合\n",
    "df = pd.concat([train, valid, test], axis=0)\n",
    "df.reset_index(drop=True, inplace=True)  # indexを振りなおす\n",
    "df[\"TITLE\"] = df[\"TITLE\"].apply(preprocessing)\n",
    "df.head()"
   ]
  },
  {
   "cell_type": "markdown",
   "id": "a0784fca",
   "metadata": {},
   "source": [
    "記事の見出しをスペースで分割した単語群を対象にTF-IDFを算出し、その値を特徴量として利用することにします。また、1単語(uni-gram)だけでなく連続する2単語(bi-gram)についてもTF-IDFを計算します。"
   ]
  },
  {
   "cell_type": "code",
   "execution_count": 21,
   "id": "a3eb0c05",
   "metadata": {},
   "outputs": [
    {
     "name": "stdout",
     "output_type": "stream",
     "text": [
      "    0m  0million  0nd   0s  0st  0th  0th birthday   aa  aaliyah  abbvie  ...  \\\n",
      "0  0.0       0.0  0.0  0.0  0.0  0.0           0.0  0.0      0.0     0.0  ...   \n",
      "1  0.0       0.0  0.0  0.0  0.0  0.0           0.0  0.0      0.0     0.0  ...   \n",
      "2  0.0       0.0  0.0  0.0  0.0  0.0           0.0  0.0      0.0     0.0  ...   \n",
      "3  0.0       0.0  0.0  0.0  0.0  0.0           0.0  0.0      0.0     0.0  ...   \n",
      "4  0.0       0.0  0.0  0.0  0.0  0.0           0.0  0.0      0.0     0.0  ...   \n",
      "\n",
      "   young  your  your mother   yr  yr high  yuan  zac  zac efron  zendaya  zone  \n",
      "0    0.0   0.0          0.0  0.0      0.0   0.0  0.0        0.0      0.0   0.0  \n",
      "1    0.0   0.0          0.0  0.0      0.0   0.0  0.0        0.0      0.0   0.0  \n",
      "2    0.0   0.0          0.0  0.0      0.0   0.0  0.0        0.0      0.0   0.0  \n",
      "3    0.0   0.0          0.0  0.0      0.0   0.0  0.0        0.0      0.0   0.0  \n",
      "4    0.0   0.0          0.0  0.0      0.0   0.0  0.0        0.0      0.0   0.0  \n",
      "\n",
      "[5 rows x 2745 columns]\n"
     ]
    }
   ],
   "source": [
    "from sklearn.feature_extraction.text import TfidfVectorizer\n",
    "\n",
    "# データの分割\n",
    "train_valid = df[:len(train) + len(valid)]\n",
    "test = df[len(train) + len(valid):]\n",
    "\n",
    "# TfidfVectorizer\n",
    "vec_tfidf = TfidfVectorizer(min_df=10, ngram_range=(1, 2))  # ngram_rangeでTF-IDFを計算する単語の長さを指定\n",
    "\n",
    "# ベクトル化\n",
    "X_train_valid = vec_tfidf.fit_transform(train_valid['TITLE'])  # testの情報は使わない\n",
    "X_test = vec_tfidf.transform(test['TITLE'])\n",
    "\n",
    "# ベクトルをデータフレームに変換\n",
    "X_train_valid = pd.DataFrame(X_train_valid.toarray(), columns=vec_tfidf.get_feature_names())\n",
    "X_test = pd.DataFrame(X_test.toarray(), columns=vec_tfidf.get_feature_names())\n",
    "\n",
    "# データの分割\n",
    "X_train = X_train_valid[:len(train)]\n",
    "X_valid = X_train_valid[len(train):]\n",
    "\n",
    "# データの保存\n",
    "# X_train.to_csv('./data/NewsAggregatorDataset/X_train.txt', sep='\\t', index=False)\n",
    "# X_valid.to_csv('./data/NewsAggregatorDataset/X_valid.txt', sep='\\t', index=False)\n",
    "# X_test.to_csv('./data/NewsAggregatorDataset/X_test.txt', sep='\\t', index=False)\n",
    "\n",
    "print(X_train.head())"
   ]
  },
  {
   "cell_type": "markdown",
   "id": "d68477be",
   "metadata": {},
   "source": [
    "<h3>52: 51で構築した学習データを用いて，ロジスティック回帰モデルを学習せよ．"
   ]
  },
  {
   "cell_type": "code",
   "execution_count": 22,
   "id": "4a9bb285",
   "metadata": {},
   "outputs": [
    {
     "data": {
      "text/plain": [
       "LogisticRegression(max_iter=10000, random_state=123)"
      ]
     },
     "execution_count": 22,
     "metadata": {},
     "output_type": "execute_result"
    }
   ],
   "source": [
    "from sklearn.linear_model import LogisticRegression\n",
    "\n",
    "# モデルの学習\n",
    "model = LogisticRegression(random_state=123, max_iter=10000)\n",
    "model.fit(X_train, train['CATEGORY'])"
   ]
  },
  {
   "cell_type": "markdown",
   "id": "bf22174e",
   "metadata": {},
   "source": [
    "<h3>53: 52で学習したロジスティック回帰モデルを用い，与えられた記事見出しからカテゴリとその予測確率を計算するプログラムを実装せよ．\n",
    "\n"
   ]
  },
  {
   "cell_type": "code",
   "execution_count": 23,
   "id": "12d4dee9",
   "metadata": {},
   "outputs": [
    {
     "name": "stdout",
     "output_type": "stream",
     "text": [
      "[array([0.6115821 , 0.73930633, 0.8577146 , ..., 0.75845577, 0.89905132,\n",
      "       0.95736828]), array(['b', 'b', 'e', ..., 'b', 'e', 'e'], dtype=object)]\n"
     ]
    }
   ],
   "source": [
    "import numpy as np\n",
    "\n",
    "def score_lg(model, X):\n",
    "  return [np.max(model.predict_proba(X), axis=1), model.predict(X)]\n",
    "\n",
    "train_pred = score_lg(model, X_train)\n",
    "test_pred = score_lg(model, X_test)\n",
    "\n",
    "print(train_pred)"
   ]
  },
  {
   "cell_type": "markdown",
   "id": "12ce7b91",
   "metadata": {},
   "source": [
    "<h3>54: 52で学習したロジスティック回帰モデルの正解率を，学習データおよび評価データ上で計測せよ．"
   ]
  },
  {
   "cell_type": "code",
   "execution_count": 24,
   "id": "d64ebbce",
   "metadata": {},
   "outputs": [
    {
     "name": "stdout",
     "output_type": "stream",
     "text": [
      "正解率（学習データ）：0.926\n",
      "正解率（評価データ）：0.876\n"
     ]
    }
   ],
   "source": [
    "from sklearn.metrics import accuracy_score\n",
    "\n",
    "train_accuracy = accuracy_score(train['CATEGORY'], train_pred[1])\n",
    "test_accuracy = accuracy_score(test['CATEGORY'], test_pred[1])\n",
    "print(f'正解率（学習データ）：{train_accuracy:.3f}')\n",
    "print(f'正解率（評価データ）：{test_accuracy:.3f}')"
   ]
  },
  {
   "cell_type": "markdown",
   "id": "4059786d",
   "metadata": {},
   "source": [
    "<h3>55: 52で学習したロジスティック回帰モデルの混同行列（confusion matrix）を，学習データおよび評価データ上で作成せよ．"
   ]
  },
  {
   "cell_type": "code",
   "execution_count": 25,
   "id": "18cd46b0",
   "metadata": {},
   "outputs": [
    {
     "name": "stdout",
     "output_type": "stream",
     "text": [
      "[[4229   83    8   54]\n",
      " [  54 4038    4    6]\n",
      " [  90  113  497   13]\n",
      " [ 186  145    8  841]]\n"
     ]
    },
    {
     "data": {
      "image/png": "[encoded data removed]",
      "text/plain": [
       "<Figure size 432x288 with 2 Axes>"
      ]
     },
     "metadata": {
      "needs_background": "light"
     },
     "output_type": "display_data"
    }
   ],
   "source": [
    "from sklearn.metrics import confusion_matrix\n",
    "import seaborn as sns\n",
    "import matplotlib.pyplot as plt\n",
    "\n",
    "# 学習データ\n",
    "train_cm = confusion_matrix(train['CATEGORY'], train_pred[1])\n",
    "print(train_cm)\n",
    "sns.heatmap(train_cm, annot=True, cmap='Blues')\n",
    "plt.show()\n"
   ]
  },
  {
   "cell_type": "code",
   "execution_count": 26,
   "id": "5278471f",
   "metadata": {},
   "outputs": [
    {
     "name": "stdout",
     "output_type": "stream",
     "text": [
      "[[514  20   1  12]\n",
      " [ 13 497   0   3]\n",
      " [ 16  26  42   5]\n",
      " [ 45  19   1  83]]\n"
     ]
    },
    {
     "data": {
      "image/png": "[encoded data removed]",
      "text/plain": [
       "<Figure size 432x288 with 2 Axes>"
      ]
     },
     "metadata": {
      "needs_background": "light"
     },
     "output_type": "display_data"
    }
   ],
   "source": [
    "# 評価データ\n",
    "test_cm = confusion_matrix(test['CATEGORY'], test_pred[1])\n",
    "print(test_cm)\n",
    "sns.heatmap(test_cm, annot=True, cmap='Blues')\n",
    "plt.show()"
   ]
  },
  {
   "cell_type": "markdown",
   "id": "ad9f03e8",
   "metadata": {},
   "source": [
    "<h3>56: 52で学習したロジスティック回帰モデルの適合率，再現率，F1スコアを，評価データ上で計測せよ．カテゴリごとに適合率，再現率，F1スコアを求め，カテゴリごとの性能をマイクロ平均（micro-average）とマクロ平均（macro-average）で統合せよ．"
   ]
  },
  {
   "cell_type": "code",
   "execution_count": 27,
   "id": "a0c39143",
   "metadata": {},
   "outputs": [
    {
     "name": "stdout",
     "output_type": "stream",
     "text": [
      "             適合率       再現率     F1スコア\n",
      "b       0.874150  0.939671  0.905727\n",
      "e       0.884342  0.968811  0.924651\n",
      "t       0.805825  0.560811  0.661355\n",
      "m       0.954545  0.471910  0.631579\n",
      "マイクロ平均  0.875867  0.875867  0.875867\n",
      "マクロ平均   0.879715  0.735301  0.780828\n"
     ]
    }
   ],
   "source": [
    "from sklearn.metrics import precision_score, recall_score, f1_score\n",
    "\n",
    "def calculate_scores(y_true, y_pred):\n",
    "  # 適合率\n",
    "  precision = precision_score(test['CATEGORY'], test_pred[1], average=None, labels=['b', 'e', 't', 'm'])  # Noneを指定するとクラスごとの精度をndarrayで返す\n",
    "  precision = np.append(precision, precision_score(y_true, y_pred, average='micro'))  # 末尾にマイクロ平均を追加\n",
    "  precision = np.append(precision, precision_score(y_true, y_pred, average='macro'))  # 末尾にマクロ平均を追加\n",
    "\n",
    "  # 再現率\n",
    "  recall = recall_score(test['CATEGORY'], test_pred[1], average=None, labels=['b', 'e', 't', 'm'])\n",
    "  recall = np.append(recall, recall_score(y_true, y_pred, average='micro'))\n",
    "  recall = np.append(recall, recall_score(y_true, y_pred, average='macro'))\n",
    "\n",
    "  # F1スコア\n",
    "  f1 = f1_score(test['CATEGORY'], test_pred[1], average=None, labels=['b', 'e', 't', 'm'])\n",
    "  f1 = np.append(f1, f1_score(y_true, y_pred, average='micro'))\n",
    "  f1 = np.append(f1, f1_score(y_true, y_pred, average='macro'))\n",
    "\n",
    "  # 結果を結合してデータフレーム化\n",
    "  scores = pd.DataFrame({'適合率': precision, '再現率': recall, 'F1スコア': f1},\n",
    "                        index=['b', 'e', 't', 'm', 'マイクロ平均', 'マクロ平均'])\n",
    "\n",
    "  return scores\n",
    "\n",
    "print(calculate_scores(test['CATEGORY'], test_pred[1]))"
   ]
  },
  {
   "cell_type": "markdown",
   "id": "1b43f189",
   "metadata": {},
   "source": [
    "<h3>57: 52で学習したロジスティック回帰モデルの中で，重みの高い特徴量トップ10と，重みの低い特徴量トップ10を確認せよ．"
   ]
  },
  {
   "cell_type": "code",
   "execution_count": 28,
   "id": "951ed241",
   "metadata": {},
   "outputs": [
    {
     "name": "stdout",
     "output_type": "stream",
     "text": [
      "【カテゴリ】b\n"
     ]
    },
    {
     "data": {
      "text/html": [
       "<div>\n",
       "<style scoped>\n",
       "    .dataframe tbody tr th:only-of-type {\n",
       "        vertical-align: middle;\n",
       "    }\n",
       "\n",
       "    .dataframe tbody tr th {\n",
       "        vertical-align: top;\n",
       "    }\n",
       "\n",
       "    .dataframe thead th {\n",
       "        text-align: right;\n",
       "    }\n",
       "</style>\n",
       "<table border=\"1\" class=\"dataframe\">\n",
       "  <thead>\n",
       "    <tr style=\"text-align: right;\">\n",
       "      <th></th>\n",
       "      <th>1</th>\n",
       "      <th>2</th>\n",
       "      <th>3</th>\n",
       "      <th>4</th>\n",
       "      <th>5</th>\n",
       "      <th>6</th>\n",
       "      <th>7</th>\n",
       "      <th>8</th>\n",
       "      <th>9</th>\n",
       "      <th>10</th>\n",
       "    </tr>\n",
       "  </thead>\n",
       "  <tbody>\n",
       "    <tr>\n",
       "      <th>重要度上位</th>\n",
       "      <td>bank</td>\n",
       "      <td>fed</td>\n",
       "      <td>ecb</td>\n",
       "      <td>china</td>\n",
       "      <td>stocks</td>\n",
       "      <td>obamacare</td>\n",
       "      <td>euro</td>\n",
       "      <td>yellen</td>\n",
       "      <td>ukraine</td>\n",
       "      <td>oil</td>\n",
       "    </tr>\n",
       "    <tr>\n",
       "      <th>重要度下位</th>\n",
       "      <td>her</td>\n",
       "      <td>ebola</td>\n",
       "      <td>video</td>\n",
       "      <td>microsoft</td>\n",
       "      <td>the</td>\n",
       "      <td>google</td>\n",
       "      <td>and</td>\n",
       "      <td>she</td>\n",
       "      <td>virus</td>\n",
       "      <td>fda</td>\n",
       "    </tr>\n",
       "  </tbody>\n",
       "</table>\n",
       "</div>"
      ],
      "text/plain": [
       "         1      2      3          4       5          6     7       8   \\\n",
       "重要度上位  bank    fed    ecb      china  stocks  obamacare  euro  yellen   \n",
       "重要度下位   her  ebola  video  microsoft     the     google   and     she   \n",
       "\n",
       "            9    10  \n",
       "重要度上位  ukraine  oil  \n",
       "重要度下位    virus  fda  "
      ]
     },
     "metadata": {},
     "output_type": "display_data"
    },
    {
     "name": "stdout",
     "output_type": "stream",
     "text": [
      "\n",
      "\n",
      "【カテゴリ】e\n"
     ]
    },
    {
     "data": {
      "text/html": [
       "<div>\n",
       "<style scoped>\n",
       "    .dataframe tbody tr th:only-of-type {\n",
       "        vertical-align: middle;\n",
       "    }\n",
       "\n",
       "    .dataframe tbody tr th {\n",
       "        vertical-align: top;\n",
       "    }\n",
       "\n",
       "    .dataframe thead th {\n",
       "        text-align: right;\n",
       "    }\n",
       "</style>\n",
       "<table border=\"1\" class=\"dataframe\">\n",
       "  <thead>\n",
       "    <tr style=\"text-align: right;\">\n",
       "      <th></th>\n",
       "      <th>1</th>\n",
       "      <th>2</th>\n",
       "      <th>3</th>\n",
       "      <th>4</th>\n",
       "      <th>5</th>\n",
       "      <th>6</th>\n",
       "      <th>7</th>\n",
       "      <th>8</th>\n",
       "      <th>9</th>\n",
       "      <th>10</th>\n",
       "    </tr>\n",
       "  </thead>\n",
       "  <tbody>\n",
       "    <tr>\n",
       "      <th>重要度上位</th>\n",
       "      <td>kardashian</td>\n",
       "      <td>chris</td>\n",
       "      <td>movie</td>\n",
       "      <td>star</td>\n",
       "      <td>her</td>\n",
       "      <td>film</td>\n",
       "      <td>kim</td>\n",
       "      <td>paul</td>\n",
       "      <td>george</td>\n",
       "      <td>she</td>\n",
       "    </tr>\n",
       "    <tr>\n",
       "      <th>重要度下位</th>\n",
       "      <td>update</td>\n",
       "      <td>us</td>\n",
       "      <td>google</td>\n",
       "      <td>study</td>\n",
       "      <td>china</td>\n",
       "      <td>gm</td>\n",
       "      <td>facebook</td>\n",
       "      <td>says</td>\n",
       "      <td>apple</td>\n",
       "      <td>billion</td>\n",
       "    </tr>\n",
       "  </tbody>\n",
       "</table>\n",
       "</div>"
      ],
      "text/plain": [
       "               1      2       3      4      5     6         7     8       9   \\\n",
       "重要度上位  kardashian  chris   movie   star    her  film       kim  paul  george   \n",
       "重要度下位      update     us  google  study  china    gm  facebook  says   apple   \n",
       "\n",
       "            10  \n",
       "重要度上位      she  \n",
       "重要度下位  billion  "
      ]
     },
     "metadata": {},
     "output_type": "display_data"
    },
    {
     "name": "stdout",
     "output_type": "stream",
     "text": [
      "\n",
      "\n",
      "【カテゴリ】m\n"
     ]
    },
    {
     "data": {
      "text/html": [
       "<div>\n",
       "<style scoped>\n",
       "    .dataframe tbody tr th:only-of-type {\n",
       "        vertical-align: middle;\n",
       "    }\n",
       "\n",
       "    .dataframe tbody tr th {\n",
       "        vertical-align: top;\n",
       "    }\n",
       "\n",
       "    .dataframe thead th {\n",
       "        text-align: right;\n",
       "    }\n",
       "</style>\n",
       "<table border=\"1\" class=\"dataframe\">\n",
       "  <thead>\n",
       "    <tr style=\"text-align: right;\">\n",
       "      <th></th>\n",
       "      <th>1</th>\n",
       "      <th>2</th>\n",
       "      <th>3</th>\n",
       "      <th>4</th>\n",
       "      <th>5</th>\n",
       "      <th>6</th>\n",
       "      <th>7</th>\n",
       "      <th>8</th>\n",
       "      <th>9</th>\n",
       "      <th>10</th>\n",
       "    </tr>\n",
       "  </thead>\n",
       "  <tbody>\n",
       "    <tr>\n",
       "      <th>重要度上位</th>\n",
       "      <td>ebola</td>\n",
       "      <td>study</td>\n",
       "      <td>cancer</td>\n",
       "      <td>drug</td>\n",
       "      <td>fda</td>\n",
       "      <td>mers</td>\n",
       "      <td>cdc</td>\n",
       "      <td>cases</td>\n",
       "      <td>health</td>\n",
       "      <td>could</td>\n",
       "    </tr>\n",
       "    <tr>\n",
       "      <th>重要度下位</th>\n",
       "      <td>facebook</td>\n",
       "      <td>gm</td>\n",
       "      <td>google</td>\n",
       "      <td>ceo</td>\n",
       "      <td>apple</td>\n",
       "      <td>amazon</td>\n",
       "      <td>bank</td>\n",
       "      <td>sales</td>\n",
       "      <td>deal</td>\n",
       "      <td>tv</td>\n",
       "    </tr>\n",
       "  </tbody>\n",
       "</table>\n",
       "</div>"
      ],
      "text/plain": [
       "             1      2       3     4      5       6     7      8       9   \\\n",
       "重要度上位     ebola  study  cancer  drug    fda    mers   cdc  cases  health   \n",
       "重要度下位  facebook     gm  google   ceo  apple  amazon  bank  sales    deal   \n",
       "\n",
       "          10  \n",
       "重要度上位  could  \n",
       "重要度下位     tv  "
      ]
     },
     "metadata": {},
     "output_type": "display_data"
    },
    {
     "name": "stdout",
     "output_type": "stream",
     "text": [
      "\n",
      "\n",
      "【カテゴリ】t\n"
     ]
    },
    {
     "data": {
      "text/html": [
       "<div>\n",
       "<style scoped>\n",
       "    .dataframe tbody tr th:only-of-type {\n",
       "        vertical-align: middle;\n",
       "    }\n",
       "\n",
       "    .dataframe tbody tr th {\n",
       "        vertical-align: top;\n",
       "    }\n",
       "\n",
       "    .dataframe thead th {\n",
       "        text-align: right;\n",
       "    }\n",
       "</style>\n",
       "<table border=\"1\" class=\"dataframe\">\n",
       "  <thead>\n",
       "    <tr style=\"text-align: right;\">\n",
       "      <th></th>\n",
       "      <th>1</th>\n",
       "      <th>2</th>\n",
       "      <th>3</th>\n",
       "      <th>4</th>\n",
       "      <th>5</th>\n",
       "      <th>6</th>\n",
       "      <th>7</th>\n",
       "      <th>8</th>\n",
       "      <th>9</th>\n",
       "      <th>10</th>\n",
       "    </tr>\n",
       "  </thead>\n",
       "  <tbody>\n",
       "    <tr>\n",
       "      <th>重要度上位</th>\n",
       "      <td>google</td>\n",
       "      <td>facebook</td>\n",
       "      <td>apple</td>\n",
       "      <td>microsoft</td>\n",
       "      <td>climate</td>\n",
       "      <td>gm</td>\n",
       "      <td>tesla</td>\n",
       "      <td>nasa</td>\n",
       "      <td>comcast</td>\n",
       "      <td>fcc</td>\n",
       "    </tr>\n",
       "    <tr>\n",
       "      <th>重要度下位</th>\n",
       "      <td>stocks</td>\n",
       "      <td>fed</td>\n",
       "      <td>cancer</td>\n",
       "      <td>men</td>\n",
       "      <td>drug</td>\n",
       "      <td>american</td>\n",
       "      <td>ukraine</td>\n",
       "      <td>percent</td>\n",
       "      <td>still</td>\n",
       "      <td>her</td>\n",
       "    </tr>\n",
       "  </tbody>\n",
       "</table>\n",
       "</div>"
      ],
      "text/plain": [
       "           1         2       3          4        5         6        7   \\\n",
       "重要度上位  google  facebook   apple  microsoft  climate        gm    tesla   \n",
       "重要度下位  stocks       fed  cancer        men     drug  american  ukraine   \n",
       "\n",
       "            8        9    10  \n",
       "重要度上位     nasa  comcast  fcc  \n",
       "重要度下位  percent    still  her  "
      ]
     },
     "metadata": {},
     "output_type": "display_data"
    },
    {
     "name": "stdout",
     "output_type": "stream",
     "text": [
      "\n",
      "\n"
     ]
    }
   ],
   "source": [
    "features = X_train.columns.values\n",
    "index = [i for i in range(1, 11)]\n",
    "for c, coef in zip(model.classes_, model.coef_):\n",
    "  print(f'【カテゴリ】{c}')\n",
    "  best10 = pd.DataFrame(features[np.argsort(coef)[::-1][:10]], columns=['重要度上位'], index=index).T\n",
    "  worst10 = pd.DataFrame(features[np.argsort(coef)[:10]], columns=['重要度下位'], index=index).T\n",
    "  display(pd.concat([best10, worst10], axis=0))\n",
    "  print('\\n')"
   ]
  },
  {
   "cell_type": "markdown",
   "id": "5384738c",
   "metadata": {},
   "source": [
    "<h3>58: ロジスティック回帰モデルを学習するとき，正則化パラメータを調整することで，学習時の過学習（overfitting）の度合いを制御できる．異なる正則化パラメータでロジスティック回帰モデルを学習し，学習データ，検証データ，および評価データ上の正解率を求めよ．実験の結果は，正則化パラメータを横軸，正解率を縦軸としたグラフにまとめよ．"
   ]
  },
  {
   "cell_type": "code",
   "execution_count": 29,
   "id": "7ebace21",
   "metadata": {},
   "outputs": [
    {
     "name": "stderr",
     "output_type": "stream",
     "text": [
      "100%|██████████| 10/10 [02:13<00:00, 13.34s/it]\n"
     ]
    }
   ],
   "source": [
    "from tqdm import tqdm\n",
    "import numpy as np\n",
    "\n",
    "result = []\n",
    "for C in tqdm(np.logspace(-5, 4, 10, base=10)):\n",
    "  # モデルの学習\n",
    "  lg = LogisticRegression(random_state=123, max_iter=10000, C=C)\n",
    "  lg.fit(X_train, train['CATEGORY'])\n",
    "\n",
    "  # 予測値の取得\n",
    "  train_pred = score_lg(lg, X_train)\n",
    "  valid_pred = score_lg(lg, X_valid)\n",
    "  test_pred = score_lg(lg, X_test)\n",
    "\n",
    "  # 正解率の算出\n",
    "  train_accuracy = accuracy_score(train['CATEGORY'], train_pred[1])\n",
    "  valid_accuracy = accuracy_score(valid['CATEGORY'], valid_pred[1])\n",
    "  test_accuracy = accuracy_score(test['CATEGORY'], test_pred[1])\n",
    "\n",
    "  # 結果の格納\n",
    "  result.append([C, train_accuracy, valid_accuracy, test_accuracy])"
   ]
  },
  {
   "cell_type": "code",
   "execution_count": 30,
   "id": "a260ccf3",
   "metadata": {},
   "outputs": [
    {
     "data": {
      "image/png": "[encoded data removed]",
      "text/plain": [
       "<Figure size 432x288 with 1 Axes>"
      ]
     },
     "metadata": {
      "needs_background": "light"
     },
     "output_type": "display_data"
    }
   ],
   "source": [
    "# 視覚化\n",
    "result = np.array(result).T\n",
    "plt.plot(result[0], result[1], label='train')\n",
    "plt.plot(result[0], result[2], label='valid')\n",
    "plt.plot(result[0], result[3], label='test')\n",
    "plt.ylim(0, 1.1)\n",
    "plt.ylabel('Accuracy')\n",
    "plt.xscale ('log')\n",
    "plt.xlabel('C')\n",
    "plt.legend()\n",
    "plt.show()"
   ]
  },
  {
   "cell_type": "markdown",
   "id": "3a3bf86d",
   "metadata": {},
   "source": [
    "<h3>59: 学習アルゴリズムや学習パラメータを変えながら，カテゴリ分類モデルを学習せよ．検証データ上の正解率が最も高くなる学習アルゴリズム・パラメータを求めよ．また，その学習アルゴリズム・パラメータを用いたときの評価データ上の正解率を求めよ．"
   ]
  },
  {
   "cell_type": "markdown",
   "id": "09e1e4a0",
   "metadata": {},
   "source": [
    "実行に時間がかかりすぎるので省略します。"
   ]
  },
  {
   "cell_type": "code",
   "execution_count": 31,
   "id": "83069be8",
   "metadata": {},
   "outputs": [
    {
     "name": "stderr",
     "output_type": "stream",
     "text": [
      "[I 2023-07-26 02:49:23,669] A new study created in memory with name: no-name-b0e99b96-c6ee-4be6-95ae-2a13b75c7e05\n",
      "<ipython-input-31-215093586d99>:6: FutureWarning: suggest_uniform has been deprecated in v3.0.0. This feature will be removed in v6.0.0. See https://github.com/optuna/optuna/releases/tag/v3.0.0. Use suggest_float instead.\n",
      "  l1_ratio = trial.suggest_uniform('l1_ratio', 0, 1)\n",
      "<ipython-input-31-215093586d99>:7: FutureWarning: suggest_loguniform has been deprecated in v3.0.0. This feature will be removed in v6.0.0. See https://github.com/optuna/optuna/releases/tag/v3.0.0. Use suggest_float(..., log=True) instead.\n",
      "  C = trial.suggest_loguniform('C', 1e-4, 1e4)\n"
     ]
    }
   ],
   "source": [
    "import optuna\n",
    "\n",
    "# 最適化対象を関数で指定\n",
    "def objective_lg(trial):\n",
    "  # チューニング対象パラメータのセット\n",
    "  l1_ratio = trial.suggest_uniform('l1_ratio', 0, 1)\n",
    "  C = trial.suggest_loguniform('C', 1e-4, 1e4)\n",
    "\n",
    "  # モデルの学習\n",
    "  lg = LogisticRegression(random_state=123, \n",
    "                          max_iter=10000, \n",
    "                          penalty='elasticnet', \n",
    "                          solver='saga', \n",
    "                          l1_ratio=l1_ratio, \n",
    "                          C=C)\n",
    "  lg.fit(X_train, train['CATEGORY'])\n",
    "\n",
    "  # 予測値の取得\n",
    "  valid_pred = score_lg(lg, X_valid)\n",
    "\n",
    "  # 正解率の算出\n",
    "  valid_accuracy = accuracy_score(valid['CATEGORY'], valid_pred[1])    \n",
    "\n",
    "  return valid_accuracy \n",
    "\n",
    "# 最適化\n",
    "study = optuna.create_study(direction='maximize')\n",
    "study.optimize(objective_lg, timeout=3600)\n",
    "\n",
    "# 結果の表示\n",
    "print('Best trial:')\n",
    "trial = study.best_trial\n",
    "print('  Value: {:.3f}'.format(trial.value))\n",
    "print('  Params: ')\n",
    "for key, value in trial.params.items():\n",
    "  print('    {}: {}'.format(key, value))\n"
   ]
  },
  {
   "cell_type": "markdown",
   "id": "5fa25ad4",
   "metadata": {},
   "source": [
    "探索したパラメータで再度モデルを学習し、正解率を確認します。"
   ]
  },
  {
   "cell_type": "code",
   "execution_count": null,
   "id": "27d3dee0",
   "metadata": {},
   "outputs": [
    {
     "ename": "NameError",
     "evalue": "name 'trial' is not defined",
     "output_type": "error",
     "traceback": [
      "\u001b[0;31m---------------------------------------------------------------------------\u001b[0m",
      "\u001b[0;31mNameError\u001b[0m                                 Traceback (most recent call last)",
      "\u001b[0;32m<ipython-input-20-cf8b72b0dcd1>\u001b[0m in \u001b[0;36m<module>\u001b[0;34m\u001b[0m\n\u001b[1;32m      1\u001b[0m \u001b[0;31m# パラメータの設定\u001b[0m\u001b[0;34m\u001b[0m\u001b[0;34m\u001b[0m\u001b[0;34m\u001b[0m\u001b[0m\n\u001b[0;32m----> 2\u001b[0;31m \u001b[0ml1_ratio\u001b[0m \u001b[0;34m=\u001b[0m \u001b[0mtrial\u001b[0m\u001b[0;34m.\u001b[0m\u001b[0mparams\u001b[0m\u001b[0;34m[\u001b[0m\u001b[0;34m'l1_ratio'\u001b[0m\u001b[0;34m]\u001b[0m\u001b[0;34m\u001b[0m\u001b[0;34m\u001b[0m\u001b[0m\n\u001b[0m\u001b[1;32m      3\u001b[0m \u001b[0mC\u001b[0m \u001b[0;34m=\u001b[0m \u001b[0mtrial\u001b[0m\u001b[0;34m.\u001b[0m\u001b[0mparams\u001b[0m\u001b[0;34m[\u001b[0m\u001b[0;34m'C'\u001b[0m\u001b[0;34m]\u001b[0m\u001b[0;34m\u001b[0m\u001b[0;34m\u001b[0m\u001b[0m\n\u001b[1;32m      4\u001b[0m \u001b[0;34m\u001b[0m\u001b[0m\n\u001b[1;32m      5\u001b[0m \u001b[0;31m# モデルの学習\u001b[0m\u001b[0;34m\u001b[0m\u001b[0;34m\u001b[0m\u001b[0;34m\u001b[0m\u001b[0m\n",
      "\u001b[0;31mNameError\u001b[0m: name 'trial' is not defined"
     ]
    }
   ],
   "source": [
    "# パラメータの設定\n",
    "l1_ratio = trial.params['l1_ratio']\n",
    "C = trial.params['C']\n",
    "\n",
    "# モデルの学習\n",
    "lg = LogisticRegression(random_state=123, \n",
    "                        max_iter=10000, \n",
    "                        penalty='elasticnet', \n",
    "                        solver='saga', \n",
    "                        l1_ratio=l1_ratio, \n",
    "                        C=C)\n",
    "lg.fit(X_train, train['CATEGORY'])\n",
    "\n",
    "# 予測値の取得\n",
    "train_pred = score_lg(lg, X_train)\n",
    "valid_pred = score_lg(lg, X_valid)\n",
    "test_pred = score_lg(lg, X_test)\n",
    "\n",
    "# 正解率の算出\n",
    "train_accuracy = accuracy_score(train['CATEGORY'], train_pred[1]) \n",
    "valid_accuracy = accuracy_score(valid['CATEGORY'], valid_pred[1]) \n",
    "test_accuracy = accuracy_score(test['CATEGORY'], test_pred[1]) \n",
    "\n",
    "print(f'正解率（学習データ）：{train_accuracy:.3f}')\n",
    "print(f'正解率（検証データ）：{valid_accuracy:.3f}')\n",
    "print(f'正解率（評価データ）：{test_accuracy:.3f}')"
   ]
  },
  {
   "cell_type": "code",
   "execution_count": null,
   "id": "42812337",
   "metadata": {},
   "outputs": [],
   "source": []
  }
 ],
 "metadata": {
  "kernelspec": {
   "display_name": "Python 3",
   "language": "python",
   "name": "python3"
  },
  "language_info": {
   "codemirror_mode": {
    "name": "ipython",
    "version": 3
   },
   "file_extension": ".py",
   "mimetype": "text/x-python",
   "name": "python",
   "nbconvert_exporter": "python",
   "pygments_lexer": "ipython3",
   "version": "3.8.3"
  }
 },
 "nbformat": 4,
 "nbformat_minor": 5
}
