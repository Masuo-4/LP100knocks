{
 "cells": [
  {
   "cell_type": "markdown",
   "metadata": {},
   "source": [
    "<h1> 第一章 準備運動"
   ]
  },
  {
   "cell_type": "markdown",
   "metadata": {},
   "source": [
    "文字列”stressed”の文字を逆に（末尾から先頭に向かって）並べた文字列を得よ．"
   ]
  },
  {
   "cell_type": "code",
   "execution_count": 12,
   "metadata": {},
   "outputs": [
    {
     "data": {
      "text/plain": [
       "'desserts'"
      ]
     },
     "execution_count": 12,
     "metadata": {},
     "output_type": "execute_result"
    }
   ],
   "source": [
    "str = \"stressed\"\n",
    "ans = str[::-1]\n",
    "ans\n"
   ]
  },
  {
   "cell_type": "markdown",
   "metadata": {},
   "source": [
    "「パタトクカシーー」という文字列の1,3,5,7文字目を取り出して連結した文字列を得よ．"
   ]
  },
  {
   "cell_type": "code",
   "execution_count": 3,
   "metadata": {},
   "outputs": [
    {
     "data": {
      "text/plain": [
       "'パトカー'"
      ]
     },
     "execution_count": 3,
     "metadata": {},
     "output_type": "execute_result"
    }
   ],
   "source": [
    "str = \"パタトクカシーー\"\n",
    "ans = str[::2]\n",
    "ans"
   ]
  },
  {
   "cell_type": "markdown",
   "metadata": {},
   "source": [
    "「パトカー」＋「タクシー」の文字を先頭から交互に連結して文字列「パタトクカシーー」を得よ．"
   ]
  },
  {
   "cell_type": "code",
   "execution_count": 9,
   "metadata": {},
   "outputs": [
    {
     "data": {
      "text/plain": [
       "'パタトクカシーー'"
      ]
     },
     "execution_count": 9,
     "metadata": {},
     "output_type": "execute_result"
    }
   ],
   "source": [
    "str1 = \"パトカー\"\n",
    "str2 = \"タクシー\"\n",
    "\n",
    "ans = \"\".join(c1 + c2 for c1, c2 in zip(str1, str2))\n",
    "ans\n",
    "    "
   ]
  },
  {
   "cell_type": "markdown",
   "metadata": {},
   "source": [
    "“Now I need a drink, alcoholic of course, after the heavy lectures involving quantum mechanics.”という文を単語に分解し，各単語の（アルファベットの）文字数を先頭から出現順に並べたリストを作成せよ．"
   ]
  },
  {
   "cell_type": "code",
   "execution_count": 11,
   "metadata": {},
   "outputs": [
    {
     "data": {
      "text/plain": [
       "[3, 1, 4, 1, 5, 9, 2, 6, 5, 3, 5, 8, 9, 7, 9]"
      ]
     },
     "execution_count": 11,
     "metadata": {},
     "output_type": "execute_result"
    }
   ],
   "source": [
    "str = \"Now I need a drink, alcoholic of course, after the heavy lectures involving quantum mechanics.\"\n",
    "words = str.split(sep=\" \")\n",
    "ans = [len(word.strip(\", .\")) for word in words]\n",
    "ans"
   ]
  },
  {
   "cell_type": "markdown",
   "metadata": {},
   "source": [
    "-“Hi He Lied Because Boron Could Not Oxidize Fluorine. New Nations Might Also Sign Peace Security Clause. Arthur King Can.”という文を単語に分解し，1, 5, 6, 7, 8, 9, 15, 16, 19番目の単語は先頭の1文字，それ以外の単語は先頭の2文字を取り出し，取り出した文字列から単語の位置（先頭から何番目の単語か）への連想配列（辞書型もしくはマップ型）を作成せよ．\n",
    "\n"
   ]
  },
  {
   "cell_type": "code",
   "execution_count": 14,
   "metadata": {},
   "outputs": [
    {
     "name": "stdout",
     "output_type": "stream",
     "text": [
      "{'H': 1, 'He': 2, 'Li': 3, 'Be': 4, 'B': 5, 'C': 6, 'N': 7, 'O': 8, 'F': 9, 'Ne': 10, 'Na': 11, 'Mi': 12, 'Al': 13, 'Si': 14, 'P': 15, 'S': 16, 'Cl': 17, 'Ar': 18, 'K': 19, 'Ca': 20}\n"
     ]
    }
   ],
   "source": [
    "str = \"Hi He Lied Because Boron Could Not Oxidize Fluorine. New Nations Might Also Sign Peace Security Clause. Arthur King Can.\"\n",
    "\n",
    "filter = [1, 5, 6, 7, 8, 9, 15, 16, 19]\n",
    "words = str.split(\" \")\n",
    "words = [word.strip(\".\") for word in words]\n",
    "word_dct = {}\n",
    "\n",
    "for i, word in enumerate(words, 1):\n",
    "    if i in filter:\n",
    "        key = word[:1]\n",
    "    else:\n",
    "        key = word[:2]\n",
    "    word_dct[key] = i\n",
    "    \n",
    "print(word_dct)"
   ]
  },
  {
   "cell_type": "markdown",
   "metadata": {},
   "source": [
    "-与えられたシーケンス（文字列やリストなど）からn-gramを作る関数を作成せよ．この関数を用い，”I am an NLPer”という文から単語bi-gram，文字bi-gramを得よ．"
   ]
  },
  {
   "cell_type": "code",
   "execution_count": 20,
   "metadata": {},
   "outputs": [
    {
     "name": "stdout",
     "output_type": "stream",
     "text": [
      "単語bi-gram: [['I', 'am'], ['am', 'an'], ['an', 'NLPer']]\n",
      "文字bi-gram: ['Ia', 'am', 'ma', 'an', 'nN', 'NL', 'LP', 'Pe', 'er']\n"
     ]
    }
   ],
   "source": [
    "def n_gram(lst, n):\n",
    "    ngrams = []\n",
    "    for i in range(len(lst) - n + 1):\n",
    "        ngram = lst[i:i + n]\n",
    "        ngrams.append(ngram)\n",
    "    return ngrams\n",
    "\n",
    "str = \"I am an NLPer\"\n",
    "words = str.split(\" \")\n",
    "chars = \"\".join(words)\n",
    "\n",
    "word_bigrams = n_gram(words, 2)\n",
    "char_bigrams = n_gram(chars, 2)\n",
    "print(\"単語bi-gram:\", word_bigrams) \n",
    "print(\"文字bi-gram:\", char_bigrams)\n"
   ]
  },
  {
   "cell_type": "markdown",
   "metadata": {},
   "source": [
    "“paraparaparadise”と”paragraph”に含まれる文字bi-gramの集合を，それぞれ, XとYとして求め，XとYの和集合，積集合，差集合を求めよ．さらに，’se’というbi-gramがXおよびYに含まれるかどうかを調べよ．"
   ]
  },
  {
   "cell_type": "code",
   "execution_count": 47,
   "metadata": {},
   "outputs": [
    {
     "name": "stdout",
     "output_type": "stream",
     "text": [
      "和集合: {'ph', 'pa', 'is', 'ra', 'ag', 'ad', 'se', 'ap', 'gr', 'di', 'ar'}\n",
      "積集合: {'ap', 'pa', 'ra', 'ar'}\n",
      "差集合: {'ad', 'se', 'is', 'di'}\n",
      "raは両方含まれている。\n"
     ]
    }
   ],
   "source": [
    "def n_gram(lst, n):\n",
    "    ngrams = []\n",
    "    for i in range(len(lst) - n + 1):\n",
    "        ngram = lst[i:i + n]\n",
    "        ngrams.append(ngram)\n",
    "    return ngrams\n",
    "\n",
    "str1 = \"paraparaparadise\"\n",
    "str2 = \"paragraph\"\n",
    "\n",
    "X = set(n_gram(str1, 2))\n",
    "Y = set(n_gram(str2, 2))\n",
    "\n",
    "print(\"和集合:\", X | Y)\n",
    "print(\"積集合:\", X & Y)\n",
    "print(\"差集合:\", X - Y)\n",
    "\n",
    "search = \"ra\"\n",
    "if search in (X & Y):\n",
    "    print(f\"{search}は両方含まれている。\")\n",
    "elif \"se\" not in (X | Y):\n",
    "    print(f\"{search}はどちらにも含まれていない。\")\n",
    "elif \"se\" in X:\n",
    "    print(f\"{search}はXにのみ含まれている。\")\n",
    "else:\n",
    "    print(f\"{search}はYにのみ含まれている。\")\n"
   ]
  },
  {
   "cell_type": "markdown",
   "metadata": {},
   "source": [
    "引数x, y, zを受け取り「x時のyはz」という文字列を返す関数を実装せよ．さらに，x=12, y=”気温”, z=22.4として，実行結果を確認せよ．"
   ]
  },
  {
   "cell_type": "code",
   "execution_count": 2,
   "metadata": {},
   "outputs": [
    {
     "name": "stdout",
     "output_type": "stream",
     "text": [
      "12時の気温は22.4\n"
     ]
    }
   ],
   "source": [
    "def make_sentence(x, y, z):\n",
    "    return f\"{x}時の{y}は{z}\"\n",
    "\n",
    "x = 12\n",
    "y = \"気温\"\n",
    "z = 22.4\n",
    "\n",
    "print(make_sentence(x, y, z))\n"
   ]
  },
  {
   "cell_type": "markdown",
   "metadata": {},
   "source": []
  }
 ],
 "metadata": {
  "kernelspec": {
   "display_name": "Python 3",
   "language": "python",
   "name": "python3"
  },
  "language_info": {
   "codemirror_mode": {
    "name": "ipython",
    "version": 3
   },
   "file_extension": ".py",
   "mimetype": "text/x-python",
   "name": "python",
   "nbconvert_exporter": "python",
   "pygments_lexer": "ipython3",
   "version": "3.9.12"
  },
  "orig_nbformat": 4
 },
 "nbformat": 4,
 "nbformat_minor": 2
}
