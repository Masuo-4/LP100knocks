{
 "cells": [
  {
   "cell_type": "markdown",
   "metadata": {},
   "source": [
    "<h1> 第二章 UNIXコマンド"
   ]
  },
  {
   "cell_type": "markdown",
   "metadata": {},
   "source": [
    "データ読み込み(最初に実行しよう)"
   ]
  },
  {
   "cell_type": "code",
   "execution_count": 20,
   "metadata": {},
   "outputs": [
    {
     "name": "stdout",
     "output_type": "stream",
     "text": [
      "--2023-07-14 15:05:46--  https://nlp100.github.io/data/popular-names.txt\n",
      "Resolving nlp100.github.io (nlp100.github.io)... 2606:50c0:8002::153, 2606:50c0:8003::153, 2606:50c0:8001::153, ...\n",
      "Connecting to nlp100.github.io (nlp100.github.io)|2606:50c0:8002::153|:443... connected.\n",
      "HTTP request sent, awaiting response... 200 OK\n",
      "Length: 55026 (54K) [text/plain]\n",
      "Saving to: 'popular-names.txt'\n",
      "\n",
      "popular-names.txt   100%[===================>]  53.74K  --.-KB/s    in 0.07s   \n",
      "\n",
      "2023-07-14 15:05:46 (750 KB/s) - 'popular-names.txt' saved [55026/55026]\n",
      "\n"
     ]
    }
   ],
   "source": [
    "# !wget https://nlp100.github.io/data/popular-names.txt"
   ]
  },
  {
   "cell_type": "code",
   "execution_count": 23,
   "metadata": {},
   "outputs": [
    {
     "data": {
      "text/html": [
       "<div>\n",
       "<style scoped>\n",
       "    .dataframe tbody tr th:only-of-type {\n",
       "        vertical-align: middle;\n",
       "    }\n",
       "\n",
       "    .dataframe tbody tr th {\n",
       "        vertical-align: top;\n",
       "    }\n",
       "\n",
       "    .dataframe thead th {\n",
       "        text-align: right;\n",
       "    }\n",
       "</style>\n",
       "<table border=\"1\" class=\"dataframe\">\n",
       "  <thead>\n",
       "    <tr style=\"text-align: right;\">\n",
       "      <th></th>\n",
       "      <th>name</th>\n",
       "      <th>sex</th>\n",
       "      <th>number</th>\n",
       "      <th>year</th>\n",
       "    </tr>\n",
       "  </thead>\n",
       "  <tbody>\n",
       "    <tr>\n",
       "      <th>0</th>\n",
       "      <td>Mary</td>\n",
       "      <td>F</td>\n",
       "      <td>7065</td>\n",
       "      <td>1880</td>\n",
       "    </tr>\n",
       "    <tr>\n",
       "      <th>1</th>\n",
       "      <td>Anna</td>\n",
       "      <td>F</td>\n",
       "      <td>2604</td>\n",
       "      <td>1880</td>\n",
       "    </tr>\n",
       "    <tr>\n",
       "      <th>2</th>\n",
       "      <td>Emma</td>\n",
       "      <td>F</td>\n",
       "      <td>2003</td>\n",
       "      <td>1880</td>\n",
       "    </tr>\n",
       "    <tr>\n",
       "      <th>3</th>\n",
       "      <td>Elizabeth</td>\n",
       "      <td>F</td>\n",
       "      <td>1939</td>\n",
       "      <td>1880</td>\n",
       "    </tr>\n",
       "    <tr>\n",
       "      <th>4</th>\n",
       "      <td>Minnie</td>\n",
       "      <td>F</td>\n",
       "      <td>1746</td>\n",
       "      <td>1880</td>\n",
       "    </tr>\n",
       "  </tbody>\n",
       "</table>\n",
       "</div>"
      ],
      "text/plain": [
       "        name sex  number  year\n",
       "0       Mary   F    7065  1880\n",
       "1       Anna   F    2604  1880\n",
       "2       Emma   F    2003  1880\n",
       "3  Elizabeth   F    1939  1880\n",
       "4     Minnie   F    1746  1880"
      ]
     },
     "execution_count": 23,
     "metadata": {},
     "output_type": "execute_result"
    }
   ],
   "source": [
    "import pandas as pd\n",
    "df = pd.read_csv(\"popular-names.txt\", sep='\\t', header=None)\n",
    "df.columns = [\"name\", 'sex', 'number', 'year']\n",
    "df.head()"
   ]
  },
  {
   "cell_type": "markdown",
   "metadata": {},
   "source": [
    "行数をカウントせよ．確認にはwcコマンドを用いよ．"
   ]
  },
  {
   "cell_type": "code",
   "execution_count": 3,
   "metadata": {},
   "outputs": [
    {
     "data": {
      "text/plain": [
       "2780"
      ]
     },
     "execution_count": 3,
     "metadata": {},
     "output_type": "execute_result"
    }
   ],
   "source": [
    "len(df)"
   ]
  },
  {
   "cell_type": "code",
   "execution_count": 22,
   "metadata": {},
   "outputs": [
    {
     "name": "stdout",
     "output_type": "stream",
     "text": [
      "    2780 ./popular-names.txt\n"
     ]
    }
   ],
   "source": [
    "!wc -l ./popular-names.txt"
   ]
  },
  {
   "cell_type": "markdown",
   "metadata": {},
   "source": [
    "タブ1文字につきスペース1文字に置換せよ．確認にはsedコマンド，trコマンド，もしくはexpandコマンドを用いよ．"
   ]
  },
  {
   "cell_type": "code",
   "execution_count": 63,
   "metadata": {},
   "outputs": [],
   "source": [
    "!tr '\\t' ' ' < popular-names.txt > ./output/output.txt\n"
   ]
  },
  {
   "cell_type": "markdown",
   "metadata": {},
   "source": [
    "各行の1列目だけを抜き出したものをcol1.txtに，2列目だけを抜き出したものをcol2.txtとしてファイルに保存せよ．確認にはcutコマンドを用いよ．"
   ]
  },
  {
   "cell_type": "code",
   "execution_count": 64,
   "metadata": {},
   "outputs": [],
   "source": [
    "col1 = df[\"name\"]\n",
    "col2 = df[\"sex\"]\n",
    "\n",
    "col1.to_csv(\"./output/col1.txt\", index=False)\n",
    "col2.to_csv(\"./output/col2.txt\", index=False)"
   ]
  },
  {
   "cell_type": "code",
   "execution_count": 7,
   "metadata": {},
   "outputs": [],
   "source": [
    "!cut -f 1 popular-names.txt > ./output/col1.txt\n",
    "!cut -f 2 popular-names.txt > ./output/col2.txt"
   ]
  },
  {
   "cell_type": "markdown",
   "metadata": {},
   "source": [
    "作ったcol1.txtとcol2.txtを結合し，元のファイルの1列目と2列目をタブ区切りで並べたテキストファイルを作成せよ．確認にはpasteコマンドを用いよ．"
   ]
  },
  {
   "cell_type": "code",
   "execution_count": 30,
   "metadata": {},
   "outputs": [],
   "source": [
    "df1 = pd.read_table(\"col1.txt\")\n",
    "df2 = pd.read_table(\"col2.txt\")\n",
    "df = pd.concat([df1, df2], axis=1)\n",
    "df.to_csv(\"./output/merged.txt\", sep=\"\\t\", index=False)"
   ]
  },
  {
   "cell_type": "code",
   "execution_count": 19,
   "metadata": {},
   "outputs": [],
   "source": [
    "!paste col1.txt col2.txt > ./output/merged.txt\n"
   ]
  },
  {
   "cell_type": "markdown",
   "metadata": {},
   "source": [
    "自然数Nをコマンドライン引数などの手段で受け取り，入力のうち先頭のN行だけを表示せよ．確認にはheadコマンドを用いよ．"
   ]
  },
  {
   "cell_type": "code",
   "execution_count": 31,
   "metadata": {},
   "outputs": [
    {
     "data": {
      "text/html": [
       "<div>\n",
       "<style scoped>\n",
       "    .dataframe tbody tr th:only-of-type {\n",
       "        vertical-align: middle;\n",
       "    }\n",
       "\n",
       "    .dataframe tbody tr th {\n",
       "        vertical-align: top;\n",
       "    }\n",
       "\n",
       "    .dataframe thead th {\n",
       "        text-align: right;\n",
       "    }\n",
       "</style>\n",
       "<table border=\"1\" class=\"dataframe\">\n",
       "  <thead>\n",
       "    <tr style=\"text-align: right;\">\n",
       "      <th></th>\n",
       "      <th>name</th>\n",
       "      <th>sex</th>\n",
       "    </tr>\n",
       "  </thead>\n",
       "  <tbody>\n",
       "    <tr>\n",
       "      <th>0</th>\n",
       "      <td>Mary</td>\n",
       "      <td>F</td>\n",
       "    </tr>\n",
       "    <tr>\n",
       "      <th>1</th>\n",
       "      <td>Anna</td>\n",
       "      <td>F</td>\n",
       "    </tr>\n",
       "    <tr>\n",
       "      <th>2</th>\n",
       "      <td>Emma</td>\n",
       "      <td>F</td>\n",
       "    </tr>\n",
       "    <tr>\n",
       "      <th>3</th>\n",
       "      <td>Elizabeth</td>\n",
       "      <td>F</td>\n",
       "    </tr>\n",
       "    <tr>\n",
       "      <th>4</th>\n",
       "      <td>Minnie</td>\n",
       "      <td>F</td>\n",
       "    </tr>\n",
       "  </tbody>\n",
       "</table>\n",
       "</div>"
      ],
      "text/plain": [
       "        name sex\n",
       "0       Mary   F\n",
       "1       Anna   F\n",
       "2       Emma   F\n",
       "3  Elizabeth   F\n",
       "4     Minnie   F"
      ]
     },
     "execution_count": 31,
     "metadata": {},
     "output_type": "execute_result"
    }
   ],
   "source": [
    "N = int(input())\n",
    "df.head(N)"
   ]
  },
  {
   "cell_type": "code",
   "execution_count": 32,
   "metadata": {},
   "outputs": [
    {
     "name": "stdout",
     "output_type": "stream",
     "text": [
      "Mary\tF\t7065\t1880\n",
      "Anna\tF\t2604\t1880\n",
      "Emma\tF\t2003\t1880\n",
      "Elizabeth\tF\t1939\t1880\n",
      "Minnie\tF\t1746\t1880\n"
     ]
    }
   ],
   "source": [
    "!head -n 5 popular-names.txt\n"
   ]
  },
  {
   "cell_type": "markdown",
   "metadata": {},
   "source": [
    "自然数Nをコマンドライン引数などの手段で受け取り，入力のうち末尾のN行だけを表示せよ．確認にはtailコマンドを用いよ．"
   ]
  },
  {
   "cell_type": "code",
   "execution_count": null,
   "metadata": {},
   "outputs": [],
   "source": [
    "N = int(input())\n",
    "df.tail(N)"
   ]
  },
  {
   "cell_type": "code",
   "execution_count": 28,
   "metadata": {},
   "outputs": [
    {
     "name": "stdout",
     "output_type": "stream",
     "text": [
      "Benjamin\tM\t13381\t2018\n",
      "Elijah\tM\t12886\t2018\n",
      "Lucas\tM\t12585\t2018\n",
      "Mason\tM\t12435\t2018\n",
      "Logan\tM\t12352\t2018\n"
     ]
    }
   ],
   "source": [
    "!tail -n 5 popular-names.txt\n"
   ]
  },
  {
   "cell_type": "markdown",
   "metadata": {},
   "source": [
    "自然数Nをコマンドライン引数などの手段で受け取り，入力のファイルを行単位でN行ずつ分割せよ．同様の処理をsplitコマンドで実現せよ．"
   ]
  },
  {
   "cell_type": "code",
   "execution_count": 66,
   "metadata": {},
   "outputs": [],
   "source": [
    "import pandas as pd\n",
    "df = pd.read_csv(\"popular-names.txt\", sep='\\t', header=None)\n",
    "df.columns = [\"name\", 'sex', 'number', 'year']\n",
    "\n",
    "N = 2\n",
    "df[\"bins\"] = pd.qcut(range(len(df)), N, labels=False)\n",
    "groups = df.groupby(\"bins\")\n",
    "\n",
    "for group_name, group_data in groups:\n",
    "    file_path = f\"./output/split_{group_name:02}.txt\"\n",
    "    group_data.drop(columns=\"bins\").to_csv(file_path, sep=\"\\t\", index=False, header=False)\n",
    "    \n"
   ]
  },
  {
   "cell_type": "code",
   "execution_count": 51,
   "metadata": {},
   "outputs": [],
   "source": [
    "# !split -l 1500 -d popular-names.txt ./output/split_\n"
   ]
  },
  {
   "cell_type": "markdown",
   "metadata": {},
   "source": [
    "1列目の文字列の種類（異なる文字列の集合）を求めよ．確認にはcut, sort, uniqコマンドを用いよ．"
   ]
  },
  {
   "cell_type": "code",
   "execution_count": 59,
   "metadata": {},
   "outputs": [
    {
     "data": {
      "text/plain": [
       "136"
      ]
     },
     "execution_count": 59,
     "metadata": {},
     "output_type": "execute_result"
    }
   ],
   "source": [
    "import pandas as pd\n",
    "df = pd.read_csv(\"popular-names.txt\", sep='\\t', header=None)\n",
    "df.columns = [\"name\", 'sex', 'number', 'year']\n",
    "\n",
    "len(df[\"name\"].unique())"
   ]
  },
  {
   "cell_type": "code",
   "execution_count": 61,
   "metadata": {},
   "outputs": [
    {
     "name": "stdout",
     "output_type": "stream",
     "text": [
      "     136\n"
     ]
    }
   ],
   "source": [
    "!cut -f 1 popular-names.txt | sort | uniq | wc -l\n"
   ]
  },
  {
   "cell_type": "markdown",
   "metadata": {},
   "source": [
    "各行を3コラム目の数値の逆順で整列せよ（注意: 各行の内容は変更せずに並び替えよ）．確認にはsortコマンドを用いよ（この問題はコマンドで実行した時の結果と合わなくてもよい）．"
   ]
  },
  {
   "cell_type": "code",
   "execution_count": 67,
   "metadata": {},
   "outputs": [
    {
     "data": {
      "text/html": [
       "<div>\n",
       "<style scoped>\n",
       "    .dataframe tbody tr th:only-of-type {\n",
       "        vertical-align: middle;\n",
       "    }\n",
       "\n",
       "    .dataframe tbody tr th {\n",
       "        vertical-align: top;\n",
       "    }\n",
       "\n",
       "    .dataframe thead th {\n",
       "        text-align: right;\n",
       "    }\n",
       "</style>\n",
       "<table border=\"1\" class=\"dataframe\">\n",
       "  <thead>\n",
       "    <tr style=\"text-align: right;\">\n",
       "      <th></th>\n",
       "      <th>name</th>\n",
       "      <th>sex</th>\n",
       "      <th>number</th>\n",
       "      <th>year</th>\n",
       "    </tr>\n",
       "  </thead>\n",
       "  <tbody>\n",
       "    <tr>\n",
       "      <th>1340</th>\n",
       "      <td>Linda</td>\n",
       "      <td>F</td>\n",
       "      <td>99689</td>\n",
       "      <td>1947</td>\n",
       "    </tr>\n",
       "    <tr>\n",
       "      <th>1360</th>\n",
       "      <td>Linda</td>\n",
       "      <td>F</td>\n",
       "      <td>96211</td>\n",
       "      <td>1948</td>\n",
       "    </tr>\n",
       "    <tr>\n",
       "      <th>1350</th>\n",
       "      <td>James</td>\n",
       "      <td>M</td>\n",
       "      <td>94757</td>\n",
       "      <td>1947</td>\n",
       "    </tr>\n",
       "    <tr>\n",
       "      <th>1550</th>\n",
       "      <td>Michael</td>\n",
       "      <td>M</td>\n",
       "      <td>92704</td>\n",
       "      <td>1957</td>\n",
       "    </tr>\n",
       "    <tr>\n",
       "      <th>1351</th>\n",
       "      <td>Robert</td>\n",
       "      <td>M</td>\n",
       "      <td>91640</td>\n",
       "      <td>1947</td>\n",
       "    </tr>\n",
       "  </tbody>\n",
       "</table>\n",
       "</div>"
      ],
      "text/plain": [
       "         name sex  number  year\n",
       "1340    Linda   F   99689  1947\n",
       "1360    Linda   F   96211  1948\n",
       "1350    James   M   94757  1947\n",
       "1550  Michael   M   92704  1957\n",
       "1351   Robert   M   91640  1947"
      ]
     },
     "execution_count": 67,
     "metadata": {},
     "output_type": "execute_result"
    }
   ],
   "source": [
    "import pandas as pd\n",
    "df = pd.read_csv(\"popular-names.txt\", sep='\\t', header=None)\n",
    "df.columns = [\"name\", 'sex', 'number', 'year']\n",
    "df_sorted = df.sort_values(by=\"number\", ascending=False)\n",
    "df_sorted.head()"
   ]
  },
  {
   "cell_type": "code",
   "execution_count": 68,
   "metadata": {},
   "outputs": [
    {
     "name": "stdout",
     "output_type": "stream",
     "text": [
      "Linda\tF\t99689\t1947\n",
      "Linda\tF\t96211\t1948\n",
      "James\tM\t94757\t1947\n",
      "Michael\tM\t92704\t1957\n",
      "Robert\tM\t91640\t1947\n",
      "sort: Broken pipe\n"
     ]
    }
   ],
   "source": [
    "!cat ./popular-names.txt | sort -rnk 3 | head -n 5"
   ]
  },
  {
   "cell_type": "markdown",
   "metadata": {},
   "source": [
    "各行の1列目の文字列の出現頻度を求め，その高い順に並べて表示せよ．確認にはcut, uniq, sortコマンドを用いよ．"
   ]
  },
  {
   "cell_type": "code",
   "execution_count": 69,
   "metadata": {},
   "outputs": [
    {
     "data": {
      "text/plain": [
       "James      118\n",
       "William    111\n",
       "Robert     108\n",
       "John       108\n",
       "Mary        92\n",
       "          ... \n",
       "Scott        1\n",
       "Rachel       1\n",
       "Kelly        1\n",
       "Crystal      1\n",
       "Lucas        1\n",
       "Name: name, Length: 136, dtype: int64"
      ]
     },
     "execution_count": 69,
     "metadata": {},
     "output_type": "execute_result"
    }
   ],
   "source": [
    "import pandas as pd\n",
    "df = pd.read_csv(\"popular-names.txt\", sep='\\t', header=None)\n",
    "df.columns = [\"name\", 'sex', 'number', 'year']\n",
    "\n",
    "df[\"name\"].value_counts()"
   ]
  },
  {
   "cell_type": "code",
   "execution_count": 86,
   "metadata": {},
   "outputs": [
    {
     "name": "stdout",
     "output_type": "stream",
     "text": [
      " 118 James\n",
      " 111 William\n",
      " 108 Robert\n",
      " 108 John\n",
      "  92 Mary\n",
      "  75 Charles\n",
      "  74 Michael\n",
      "  73 Elizabeth\n",
      "  70 Joseph\n",
      "  60 Margaret\n",
      "  58 Thomas\n",
      "  58 George\n",
      "  57 David\n",
      "  51 Richard\n",
      "  45 Helen\n",
      "  43 Frank\n",
      "  43 Christopher\n",
      "  41 Anna\n",
      "  40 Edward\n",
      "  39 Ruth\n",
      "  38 Patricia\n",
      "  37 Matthew\n",
      "  36 Dorothy\n",
      "  35 Emma\n",
      "  32 Barbara\n",
      "  31 Joshua\n",
      "  31 Daniel\n",
      "  26 Sarah\n",
      "  26 Linda\n",
      "  26 Jennifer\n",
      "  26 Emily\n",
      "  25 Jessica\n",
      "  25 Jacob\n",
      "  24 Susan\n",
      "  24 Mildred\n",
      "  24 Betty\n",
      "  23 Henry\n",
      "  23 Ashley\n",
      "  22 Nancy\n",
      "  21 Andrew\n",
      "  20 Marie\n",
      "  20 Florence\n",
      "  20 Donald\n",
      "  20 Amanda\n",
      "  19 Samantha\n",
      "  18 Olivia\n",
      "  18 Melissa\n",
      "  18 Madison\n",
      "  18 Lisa\n",
      "  18 Karen\n",
      "  17 Stephanie\n",
      "  17 Abigail\n",
      "  16 Sandra\n",
      "  16 Mark\n",
      "  16 Ethel\n",
      "  15 Michelle\n",
      "  15 Isabella\n",
      "  15 Heather\n",
      "  15 Frances\n",
      "  15 Ethan\n",
      "  15 Carol\n",
      "  15 Angela\n",
      "  14 Shirley\n",
      "  14 Kimberly\n",
      "  14 Ava\n",
      "  14 Amy\n",
      "  13 Virginia\n",
      "  13 Sophia\n",
      "  13 Nicole\n",
      "  13 Jason\n",
      "  13 Hannah\n",
      "  13 Deborah\n",
      "  13 Brian\n",
      "  12 Minnie\n",
      "  12 Donna\n",
      "  12 Bertha\n",
      "  11 Cynthia\n",
      "  10 Ronald\n",
      "  10 Noah\n",
      "  10 Nicholas\n",
      "  10 Mia\n",
      "  10 Doris\n",
      "  10 Brittany\n",
      "  10 Alice\n",
      "   9 Tyler\n",
      "   9 Joan\n",
      "   9 Debra\n",
      "   8 Taylor\n",
      "   8 Mason\n",
      "   8 Judith\n",
      "   8 Ida\n",
      "   8 Clara\n",
      "   8 Alexis\n",
      "   8 Alexander\n",
      "   7 Tammy\n",
      "   7 Steven\n",
      "   7 Sharon\n",
      "   7 Liam\n",
      "   7 Harry\n",
      "   7 Brandon\n",
      "   6 Anthony\n",
      "   5 Jeffrey\n",
      "   5 Jayden\n",
      "   5 Gary\n",
      "   5 Charlotte\n",
      "   5 Annie\n",
      "   4 Lillian\n",
      "   4 Kathleen\n",
      "   4 Justin\n",
      "   4 Chloe\n",
      "   4 Benjamin\n",
      "   4 Austin\n",
      "   3 Megan\n",
      "   3 Harper\n",
      "   3 Evelyn\n",
      "   3 Elijah\n",
      "   3 Aiden\n",
      "   2 Rebecca\n",
      "   2 Oliver\n",
      "   2 Logan\n",
      "   2 Lauren\n",
      "   2 Larry\n",
      "   2 Bessie\n",
      "   2 Amelia\n",
      "   1 Walter\n",
      "   1 Tracy\n",
      "   1 Scott\n",
      "   1 Rachel\n",
      "   1 Pamela\n",
      "   1 Lucas\n",
      "   1 Lori\n",
      "   1 Laura\n",
      "   1 Kelly\n",
      "   1 Julie\n",
      "   1 Crystal\n",
      "   1 Carolyn\n"
     ]
    }
   ],
   "source": [
    "!cut -f 1 ./popular-names.txt | sort | uniq -c | sort -rn"
   ]
  }
 ],
 "metadata": {
  "kernelspec": {
   "display_name": "base",
   "language": "python",
   "name": "python3"
  },
  "language_info": {
   "codemirror_mode": {
    "name": "ipython",
    "version": 3
   },
   "file_extension": ".py",
   "mimetype": "text/x-python",
   "name": "python",
   "nbconvert_exporter": "python",
   "pygments_lexer": "ipython3",
   "version": "3.9.12"
  },
  "orig_nbformat": 4
 },
 "nbformat": 4,
 "nbformat_minor": 2
}
